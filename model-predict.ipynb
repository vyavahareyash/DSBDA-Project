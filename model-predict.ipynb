{
 "cells": [
  {
   "attachments": {},
   "cell_type": "markdown",
   "metadata": {},
   "source": [
    "# Logistic Regression trained model "
   ]
  },
  {
   "cell_type": "code",
   "execution_count": 36,
   "metadata": {},
   "outputs": [],
   "source": [
    "import pickle\n",
    "model = pickle.load(open('model.pkl','rb'))"
   ]
  },
  {
   "cell_type": "code",
   "execution_count": 37,
   "metadata": {},
   "outputs": [],
   "source": [
    "import numpy as np\n",
    "import mercury as mr"
   ]
  },
  {
   "cell_type": "code",
   "execution_count": 38,
   "metadata": {},
   "outputs": [
    {
     "data": {
      "application/mercury+json": {
       "code_uid": "Checkbox.0.40.11.2-randa04a22fb",
       "disabled": false,
       "hidden": false,
       "label": "Show code",
       "model_id": "697858ebdfd84de7b3bad6cf8fc06b9e",
       "url_key": "",
       "value": false,
       "widget": "Checkbox"
      },
      "application/vnd.jupyter.widget-view+json": {
       "model_id": "697858ebdfd84de7b3bad6cf8fc06b9e",
       "version_major": 2,
       "version_minor": 0
      },
      "text/plain": [
       "mercury.Checkbox"
      ]
     },
     "metadata": {},
     "output_type": "display_data"
    },
    {
     "data": {
      "application/mercury+json": {
       "allow_download": true,
       "code_uid": "App.0.40.24.3-rand858fab03",
       "continuous_update": true,
       "description": "Mini Project",
       "full_screen": true,
       "model_id": "mercury-app",
       "notify": "{}",
       "output": "app",
       "schedule": "",
       "show_code": false,
       "show_prompt": false,
       "show_sidebar": true,
       "static_notebook": false,
       "title": "DSBDA",
       "widget": "App"
      },
      "text/html": [
       "<h3>Mercury Application</h3><small>This output won't appear in the web app.</small>"
      ],
      "text/plain": [
       "mercury.App"
      ]
     },
     "metadata": {},
     "output_type": "display_data"
    }
   ],
   "source": [
    "# Create Mercury App\n",
    "show_code = mr.Checkbox(label=\"Show code\", value=False)\n",
    "app = mr.App(title=\"DSBDA\", description=\"Mini Project\",show_code=show_code.value)"
   ]
  },
  {
   "cell_type": "code",
   "execution_count": 39,
   "metadata": {},
   "outputs": [],
   "source": [
    "import pandas as pd\n",
    "employee_df = pd.read_csv('WA_Fn-UseC_-HR-Employee-Attrition.csv')"
   ]
  },
  {
   "cell_type": "code",
   "execution_count": 40,
   "metadata": {},
   "outputs": [
    {
     "data": {
      "application/mercury+json": {
       "code_uid": "Text.0.40.15.3-rand2e29a8ad",
       "disabled": false,
       "hidden": false,
       "label": "Enter Age",
       "model_id": "cc6bb12f72b04754bbc930eb9939ecdf",
       "rows": 1,
       "url_key": "",
       "value": "18",
       "widget": "Text"
      },
      "application/vnd.jupyter.widget-view+json": {
       "model_id": "cc6bb12f72b04754bbc930eb9939ecdf",
       "version_major": 2,
       "version_minor": 0
      },
      "text/plain": [
       "mercury.Text"
      ]
     },
     "metadata": {},
     "output_type": "display_data"
    },
    {
     "data": {
      "application/mercury+json": {
       "choices": [
        "Travel_Rarely",
        "Travel_Frequently",
        "Non-Travel"
       ],
       "code_uid": "Select.0.40.16.6-rand89516b0f",
       "disabled": false,
       "hidden": false,
       "label": "BusinessTravel",
       "model_id": "f9c1575ab946431aab8ab2cf4faf71b4",
       "url_key": "",
       "value": "Travel_Rarely",
       "widget": "Select"
      },
      "application/vnd.jupyter.widget-view+json": {
       "model_id": "f9c1575ab946431aab8ab2cf4faf71b4",
       "version_major": 2,
       "version_minor": 0
      },
      "text/plain": [
       "mercury.Select"
      ]
     },
     "metadata": {},
     "output_type": "display_data"
    },
    {
     "data": {
      "application/mercury+json": {
       "code_uid": "Text.0.40.15.9-randa2fbb77a",
       "disabled": false,
       "hidden": false,
       "label": "DailyRate",
       "model_id": "6ea0e50c4f5740438855d05f32fbefaa",
       "rows": 1,
       "url_key": "",
       "value": "0",
       "widget": "Text"
      },
      "application/vnd.jupyter.widget-view+json": {
       "model_id": "6ea0e50c4f5740438855d05f32fbefaa",
       "version_major": 2,
       "version_minor": 0
      },
      "text/plain": [
       "mercury.Text"
      ]
     },
     "metadata": {},
     "output_type": "display_data"
    },
    {
     "data": {
      "application/mercury+json": {
       "choices": [
        "Sales",
        "Research & Development",
        "Human Resources"
       ],
       "code_uid": "Select.0.40.16.12-randc7b33227",
       "disabled": false,
       "hidden": false,
       "label": "Department",
       "model_id": "3bcf942002914c6996e9694841eba59f",
       "url_key": "",
       "value": "Sales",
       "widget": "Select"
      },
      "application/vnd.jupyter.widget-view+json": {
       "model_id": "3bcf942002914c6996e9694841eba59f",
       "version_major": 2,
       "version_minor": 0
      },
      "text/plain": [
       "mercury.Select"
      ]
     },
     "metadata": {},
     "output_type": "display_data"
    },
    {
     "data": {
      "application/mercury+json": {
       "code_uid": "Text.0.40.15.15-randdfeb6c88",
       "disabled": false,
       "hidden": false,
       "label": "DistanceFromHome",
       "model_id": "994a904a838d467095bff9371d863c31",
       "rows": 1,
       "url_key": "",
       "value": "0",
       "widget": "Text"
      },
      "application/vnd.jupyter.widget-view+json": {
       "model_id": "994a904a838d467095bff9371d863c31",
       "version_major": 2,
       "version_minor": 0
      },
      "text/plain": [
       "mercury.Text"
      ]
     },
     "metadata": {},
     "output_type": "display_data"
    },
    {
     "data": {
      "application/mercury+json": {
       "code_uid": "Text.0.40.15.18-rand1fa87b22",
       "disabled": false,
       "hidden": false,
       "label": "Education [1-5]",
       "model_id": "45077a47384c4c04ab27c2819d9ba8b0",
       "rows": 1,
       "url_key": "",
       "value": "1",
       "widget": "Text"
      },
      "application/vnd.jupyter.widget-view+json": {
       "model_id": "45077a47384c4c04ab27c2819d9ba8b0",
       "version_major": 2,
       "version_minor": 0
      },
      "text/plain": [
       "mercury.Text"
      ]
     },
     "metadata": {},
     "output_type": "display_data"
    },
    {
     "data": {
      "application/mercury+json": {
       "choices": [
        "Life Sciences",
        "Other",
        "Medical",
        "Marketing",
        "Technical Degree",
        "Human Resources"
       ],
       "code_uid": "Select.0.40.16.21-rand169c309f",
       "disabled": false,
       "hidden": false,
       "label": "EducationField",
       "model_id": "49f70a838e2e4ef9b20a38f27bf5c423",
       "url_key": "",
       "value": "Life Sciences",
       "widget": "Select"
      },
      "application/vnd.jupyter.widget-view+json": {
       "model_id": "49f70a838e2e4ef9b20a38f27bf5c423",
       "version_major": 2,
       "version_minor": 0
      },
      "text/plain": [
       "mercury.Select"
      ]
     },
     "metadata": {},
     "output_type": "display_data"
    },
    {
     "data": {
      "application/mercury+json": {
       "code_uid": "Text.0.40.15.24-rand0426aac9",
       "disabled": false,
       "hidden": false,
       "label": "EnvironmentSatisfaction [1-5]",
       "model_id": "0f88fe96486d44d59b2f4b672523903c",
       "rows": 1,
       "url_key": "",
       "value": "1",
       "widget": "Text"
      },
      "application/vnd.jupyter.widget-view+json": {
       "model_id": "0f88fe96486d44d59b2f4b672523903c",
       "version_major": 2,
       "version_minor": 0
      },
      "text/plain": [
       "mercury.Text"
      ]
     },
     "metadata": {},
     "output_type": "display_data"
    },
    {
     "data": {
      "application/mercury+json": {
       "choices": [
        "Female",
        "Male"
       ],
       "code_uid": "Select.0.40.16.27-rand8edf20b1",
       "disabled": false,
       "hidden": false,
       "label": "Gender",
       "model_id": "04d84c31b6ba42f6b11c4880855c0766",
       "url_key": "",
       "value": "Female",
       "widget": "Select"
      },
      "application/vnd.jupyter.widget-view+json": {
       "model_id": "04d84c31b6ba42f6b11c4880855c0766",
       "version_major": 2,
       "version_minor": 0
      },
      "text/plain": [
       "mercury.Select"
      ]
     },
     "metadata": {},
     "output_type": "display_data"
    },
    {
     "data": {
      "application/mercury+json": {
       "code_uid": "Text.0.40.15.30-rand7054de43",
       "disabled": false,
       "hidden": false,
       "label": "JobInvolvement [1-5]",
       "model_id": "e9f5f7ffcd3c472b9b404b6ec8579fff",
       "rows": 1,
       "url_key": "",
       "value": "1",
       "widget": "Text"
      },
      "application/vnd.jupyter.widget-view+json": {
       "model_id": "e9f5f7ffcd3c472b9b404b6ec8579fff",
       "version_major": 2,
       "version_minor": 0
      },
      "text/plain": [
       "mercury.Text"
      ]
     },
     "metadata": {},
     "output_type": "display_data"
    },
    {
     "data": {
      "application/mercury+json": {
       "code_uid": "Text.0.40.15.33-rand50a036db",
       "disabled": false,
       "hidden": false,
       "label": "JobLevel [1-5]",
       "model_id": "b4e307f86aed4b65a7666bb64b8f6f1b",
       "rows": 1,
       "url_key": "",
       "value": "1",
       "widget": "Text"
      },
      "application/vnd.jupyter.widget-view+json": {
       "model_id": "b4e307f86aed4b65a7666bb64b8f6f1b",
       "version_major": 2,
       "version_minor": 0
      },
      "text/plain": [
       "mercury.Text"
      ]
     },
     "metadata": {},
     "output_type": "display_data"
    },
    {
     "data": {
      "application/mercury+json": {
       "choices": [
        "Sales Executive",
        "Research Scientist",
        "Laboratory Technician",
        "Manufacturing Director",
        "Healthcare Representative",
        "Manager",
        "Sales Representative",
        "Research Director",
        "Human Resources"
       ],
       "code_uid": "Select.0.40.16.36-rand6e327a78",
       "disabled": false,
       "hidden": false,
       "label": "JobRole",
       "model_id": "050b5e72b37848e0a899da724407f1ab",
       "url_key": "",
       "value": "Sales Executive",
       "widget": "Select"
      },
      "application/vnd.jupyter.widget-view+json": {
       "model_id": "050b5e72b37848e0a899da724407f1ab",
       "version_major": 2,
       "version_minor": 0
      },
      "text/plain": [
       "mercury.Select"
      ]
     },
     "metadata": {},
     "output_type": "display_data"
    },
    {
     "data": {
      "application/mercury+json": {
       "code_uid": "Text.0.40.15.39-rand6d96f7b2",
       "disabled": false,
       "hidden": false,
       "label": "JobSatisfaction [1-5]",
       "model_id": "e4f0655189644147956dd3c874a5d008",
       "rows": 1,
       "url_key": "",
       "value": "1",
       "widget": "Text"
      },
      "application/vnd.jupyter.widget-view+json": {
       "model_id": "e4f0655189644147956dd3c874a5d008",
       "version_major": 2,
       "version_minor": 0
      },
      "text/plain": [
       "mercury.Text"
      ]
     },
     "metadata": {},
     "output_type": "display_data"
    },
    {
     "data": {
      "application/mercury+json": {
       "choices": [
        "Single",
        "Married",
        "Divorced"
       ],
       "code_uid": "Select.0.40.16.42-rand73236ded",
       "disabled": false,
       "hidden": false,
       "label": "MaritalStatus",
       "model_id": "9c5f9456cb3041f49fcce2fe40071534",
       "url_key": "",
       "value": "Single",
       "widget": "Select"
      },
      "application/vnd.jupyter.widget-view+json": {
       "model_id": "9c5f9456cb3041f49fcce2fe40071534",
       "version_major": 2,
       "version_minor": 0
      },
      "text/plain": [
       "mercury.Select"
      ]
     },
     "metadata": {},
     "output_type": "display_data"
    },
    {
     "data": {
      "application/mercury+json": {
       "code_uid": "Text.0.40.15.45-randd8bfadcf",
       "disabled": false,
       "hidden": false,
       "label": "MonthlyIncome",
       "model_id": "7f666485b17242e0851a029bb045cc88",
       "rows": 1,
       "url_key": "",
       "value": "1000",
       "widget": "Text"
      },
      "application/vnd.jupyter.widget-view+json": {
       "model_id": "7f666485b17242e0851a029bb045cc88",
       "version_major": 2,
       "version_minor": 0
      },
      "text/plain": [
       "mercury.Text"
      ]
     },
     "metadata": {},
     "output_type": "display_data"
    },
    {
     "data": {
      "application/mercury+json": {
       "code_uid": "Text.0.40.15.48-randf2974364",
       "disabled": false,
       "hidden": false,
       "label": "MonthlyRate",
       "model_id": "449d37a8bec34ee3a09cb469bf15a0ee",
       "rows": 1,
       "url_key": "",
       "value": "1000",
       "widget": "Text"
      },
      "application/vnd.jupyter.widget-view+json": {
       "model_id": "449d37a8bec34ee3a09cb469bf15a0ee",
       "version_major": 2,
       "version_minor": 0
      },
      "text/plain": [
       "mercury.Text"
      ]
     },
     "metadata": {},
     "output_type": "display_data"
    },
    {
     "data": {
      "application/mercury+json": {
       "code_uid": "Text.0.40.15.51-rand589a8b1b",
       "disabled": false,
       "hidden": false,
       "label": "NumCompaniesWorked",
       "model_id": "7337bbdfd9444e3fa465385a09c9da78",
       "rows": 1,
       "url_key": "",
       "value": "0",
       "widget": "Text"
      },
      "application/vnd.jupyter.widget-view+json": {
       "model_id": "7337bbdfd9444e3fa465385a09c9da78",
       "version_major": 2,
       "version_minor": 0
      },
      "text/plain": [
       "mercury.Text"
      ]
     },
     "metadata": {},
     "output_type": "display_data"
    },
    {
     "data": {
      "application/mercury+json": {
       "choices": [
        "Yes",
        "No"
       ],
       "code_uid": "Select.0.40.16.54-randeeab2cb6",
       "disabled": false,
       "hidden": false,
       "label": "OverTime",
       "model_id": "1cd94ebce2f04b6bb57f1964a492126d",
       "url_key": "",
       "value": "Yes",
       "widget": "Select"
      },
      "application/vnd.jupyter.widget-view+json": {
       "model_id": "1cd94ebce2f04b6bb57f1964a492126d",
       "version_major": 2,
       "version_minor": 0
      },
      "text/plain": [
       "mercury.Select"
      ]
     },
     "metadata": {},
     "output_type": "display_data"
    },
    {
     "data": {
      "application/mercury+json": {
       "code_uid": "Text.0.40.15.57-rand6075fc6b",
       "disabled": false,
       "hidden": false,
       "label": "HourlyRate",
       "model_id": "28100b6402974e28bb8d7cac7f01e122",
       "rows": 1,
       "url_key": "",
       "value": "10",
       "widget": "Text"
      },
      "application/vnd.jupyter.widget-view+json": {
       "model_id": "28100b6402974e28bb8d7cac7f01e122",
       "version_major": 2,
       "version_minor": 0
      },
      "text/plain": [
       "mercury.Text"
      ]
     },
     "metadata": {},
     "output_type": "display_data"
    },
    {
     "data": {
      "application/mercury+json": {
       "code_uid": "Text.0.40.15.60-rand4f155fd9",
       "disabled": false,
       "hidden": false,
       "label": "PercentSalaryHike",
       "model_id": "d1675f58e539433383afda76960107e0",
       "rows": 1,
       "url_key": "",
       "value": "0",
       "widget": "Text"
      },
      "application/vnd.jupyter.widget-view+json": {
       "model_id": "d1675f58e539433383afda76960107e0",
       "version_major": 2,
       "version_minor": 0
      },
      "text/plain": [
       "mercury.Text"
      ]
     },
     "metadata": {},
     "output_type": "display_data"
    },
    {
     "data": {
      "application/mercury+json": {
       "code_uid": "Text.0.40.15.63-randf90e81ce",
       "disabled": false,
       "hidden": false,
       "label": "PerformanceRating [3-4]",
       "model_id": "b5ecc626529a4f009c704778eb1fc1e6",
       "rows": 1,
       "url_key": "",
       "value": "3",
       "widget": "Text"
      },
      "application/vnd.jupyter.widget-view+json": {
       "model_id": "b5ecc626529a4f009c704778eb1fc1e6",
       "version_major": 2,
       "version_minor": 0
      },
      "text/plain": [
       "mercury.Text"
      ]
     },
     "metadata": {},
     "output_type": "display_data"
    },
    {
     "data": {
      "application/mercury+json": {
       "code_uid": "Text.0.40.15.66-rand50547c77",
       "disabled": false,
       "hidden": false,
       "label": "RelationshipSatisfaction [1-5]",
       "model_id": "c1a6ef1b90c44cadb3a417d9860a38ca",
       "rows": 1,
       "url_key": "",
       "value": "0",
       "widget": "Text"
      },
      "application/vnd.jupyter.widget-view+json": {
       "model_id": "c1a6ef1b90c44cadb3a417d9860a38ca",
       "version_major": 2,
       "version_minor": 0
      },
      "text/plain": [
       "mercury.Text"
      ]
     },
     "metadata": {},
     "output_type": "display_data"
    },
    {
     "data": {
      "application/mercury+json": {
       "code_uid": "Text.0.40.15.69-rand0726ddf0",
       "disabled": false,
       "hidden": false,
       "label": "StockOptionLevel [0-3]",
       "model_id": "5707e72d4272455b99c648bc35c0d590",
       "rows": 1,
       "url_key": "",
       "value": "0",
       "widget": "Text"
      },
      "application/vnd.jupyter.widget-view+json": {
       "model_id": "5707e72d4272455b99c648bc35c0d590",
       "version_major": 2,
       "version_minor": 0
      },
      "text/plain": [
       "mercury.Text"
      ]
     },
     "metadata": {},
     "output_type": "display_data"
    },
    {
     "data": {
      "application/mercury+json": {
       "code_uid": "Text.0.40.15.72-randb794fa0b",
       "disabled": false,
       "hidden": false,
       "label": "TotalWorkingYears",
       "model_id": "4fa8b35a604245c8a4f016d65ee168fb",
       "rows": 1,
       "url_key": "",
       "value": "1",
       "widget": "Text"
      },
      "application/vnd.jupyter.widget-view+json": {
       "model_id": "4fa8b35a604245c8a4f016d65ee168fb",
       "version_major": 2,
       "version_minor": 0
      },
      "text/plain": [
       "mercury.Text"
      ]
     },
     "metadata": {},
     "output_type": "display_data"
    },
    {
     "data": {
      "application/mercury+json": {
       "code_uid": "Text.0.40.15.75-rand3bcf45d5",
       "disabled": false,
       "hidden": false,
       "label": "TrainingTimesLastYear [0-6]",
       "model_id": "4a6b32634d054b74b84618a63afe95b5",
       "rows": 1,
       "url_key": "",
       "value": "0",
       "widget": "Text"
      },
      "application/vnd.jupyter.widget-view+json": {
       "model_id": "4a6b32634d054b74b84618a63afe95b5",
       "version_major": 2,
       "version_minor": 0
      },
      "text/plain": [
       "mercury.Text"
      ]
     },
     "metadata": {},
     "output_type": "display_data"
    },
    {
     "data": {
      "application/mercury+json": {
       "code_uid": "Text.0.40.15.78-randb20fffb4",
       "disabled": false,
       "hidden": false,
       "label": "WorkLifeBalance [1-5]",
       "model_id": "02bff434c9704567879f9b5400406638",
       "rows": 1,
       "url_key": "",
       "value": "1",
       "widget": "Text"
      },
      "application/vnd.jupyter.widget-view+json": {
       "model_id": "02bff434c9704567879f9b5400406638",
       "version_major": 2,
       "version_minor": 0
      },
      "text/plain": [
       "mercury.Text"
      ]
     },
     "metadata": {},
     "output_type": "display_data"
    },
    {
     "data": {
      "application/mercury+json": {
       "code_uid": "Text.0.40.15.81-rand6e9b4cc3",
       "disabled": false,
       "hidden": false,
       "label": "YearsAtCompany",
       "model_id": "88fc313eef944a5ab3e30967793712c0",
       "rows": 1,
       "url_key": "",
       "value": "0",
       "widget": "Text"
      },
      "application/vnd.jupyter.widget-view+json": {
       "model_id": "88fc313eef944a5ab3e30967793712c0",
       "version_major": 2,
       "version_minor": 0
      },
      "text/plain": [
       "mercury.Text"
      ]
     },
     "metadata": {},
     "output_type": "display_data"
    },
    {
     "data": {
      "application/mercury+json": {
       "code_uid": "Text.0.40.15.84-rand35982d29",
       "disabled": false,
       "hidden": false,
       "label": "YearsInCurrentRole",
       "model_id": "3540be3ec3ab4aca802179f0b00adfc6",
       "rows": 1,
       "url_key": "",
       "value": "0",
       "widget": "Text"
      },
      "application/vnd.jupyter.widget-view+json": {
       "model_id": "3540be3ec3ab4aca802179f0b00adfc6",
       "version_major": 2,
       "version_minor": 0
      },
      "text/plain": [
       "mercury.Text"
      ]
     },
     "metadata": {},
     "output_type": "display_data"
    },
    {
     "data": {
      "application/mercury+json": {
       "code_uid": "Text.0.40.15.87-randdd3554e3",
       "disabled": false,
       "hidden": false,
       "label": "YearsSinceLastPromotion",
       "model_id": "4bcae85ac14d455dbe93177aad303cf1",
       "rows": 1,
       "url_key": "",
       "value": "0",
       "widget": "Text"
      },
      "application/vnd.jupyter.widget-view+json": {
       "model_id": "4bcae85ac14d455dbe93177aad303cf1",
       "version_major": 2,
       "version_minor": 0
      },
      "text/plain": [
       "mercury.Text"
      ]
     },
     "metadata": {},
     "output_type": "display_data"
    },
    {
     "data": {
      "application/mercury+json": {
       "code_uid": "Text.0.40.15.90-rand0031f0a0",
       "disabled": false,
       "hidden": false,
       "label": "YearsWithCurrManager",
       "model_id": "02ec7a3c2e9a400c8ca8840cf4d4493a",
       "rows": 1,
       "url_key": "",
       "value": "0",
       "widget": "Text"
      },
      "application/vnd.jupyter.widget-view+json": {
       "model_id": "02ec7a3c2e9a400c8ca8840cf4d4493a",
       "version_major": 2,
       "version_minor": 0
      },
      "text/plain": [
       "mercury.Text"
      ]
     },
     "metadata": {},
     "output_type": "display_data"
    }
   ],
   "source": [
    "# Data processing\n",
    "\n",
    "Age = mr.Text(value='18',label='Enter Age')\n",
    "Age=int(Age.value)\n",
    "\n",
    "BusinessTravel = mr.Select(value='Travel_Rarely',choices=employee_df['BusinessTravel'].unique(), label='BusinessTravel')\n",
    "BusinessTravel=BusinessTravel.value\n",
    "\n",
    "DailyRate = mr.Text(value='0',label='DailyRate')\n",
    "DailyRate=int(DailyRate.value)\n",
    "\n",
    "Department = mr.Select(value='Sales',choices=employee_df['Department'].unique(),label='Department')\n",
    "Department=Department.value\n",
    "\n",
    "DistanceFromHome = mr.Text(value='0',label='DistanceFromHome')\n",
    "DistanceFromHome = int(DistanceFromHome.value)\n",
    "\n",
    "Education = mr.Text(value='1',label='Education [1-5]')\n",
    "Education=int(Education.value)\n",
    "\n",
    "EducationField = mr.Select(value='Life Sciences',choices=employee_df['EducationField'].unique(),label='EducationField')\n",
    "EducationField=EducationField.value\n",
    "\n",
    "EnvironmentSatisfaction = mr.Text(value='1',label='EnvironmentSatisfaction [1-5]')\n",
    "EnvironmentSatisfaction=int(EnvironmentSatisfaction.value)\n",
    "\n",
    "Gender = mr.Select(value='Female',choices=employee_df['Gender'].unique(),label='Gender')\n",
    "Gender=Gender.value\n",
    "\n",
    "JobInvolvement = mr.Text(value='1',label='JobInvolvement [1-5]')\n",
    "JobInvolvement=int(JobInvolvement.value)\n",
    "\n",
    "JobLevel = mr.Text(value='1',label='JobLevel [1-5]')\n",
    "JobLevel=int(JobLevel.value)\n",
    "\n",
    "JobRole = mr.Select(value='Sales Executive',choices=employee_df['JobRole'].unique(),label='JobRole')\n",
    "JobRole=JobRole.value\n",
    "\n",
    "JobSatisfaction = mr.Text(value='1',label='JobSatisfaction [1-5]')\n",
    "JobSatisfaction=int(JobSatisfaction.value)\n",
    "\n",
    "MaritalStatus = mr.Select(value='Single',choices=employee_df['MaritalStatus'].unique(),label='MaritalStatus')\n",
    "MaritalStatus=MaritalStatus.value\n",
    "\n",
    "MonthlyIncome = mr.Text(value='1000',label='MonthlyIncome')\n",
    "MonthlyIncome=int(MonthlyIncome.value)\n",
    "\n",
    "MonthlyRate = mr.Text(value='1000',label='MonthlyRate')\n",
    "MonthlyRate=int(MonthlyRate.value)\n",
    "\n",
    "NumCompaniesWorked = mr.Text(value='0',label='NumCompaniesWorked')\n",
    "NumCompaniesWorked=int(NumCompaniesWorked.value)\n",
    "\n",
    "OverTime = mr.Select(value='Yes',choices=employee_df['OverTime'].unique(),label='OverTime')\n",
    "OverTime=OverTime.value\n",
    "\n",
    "HourlyRate = mr.Text(value='10',label='HourlyRate')\n",
    "HourlyRate=int(HourlyRate.value)\n",
    "\n",
    "PercentSalaryHike = mr.Text(value='0',label='PercentSalaryHike')\n",
    "PercentSalaryHike=int(PercentSalaryHike.value)\n",
    "\n",
    "PerformanceRating = mr.Text(value='3',label='PerformanceRating [3-4]')\n",
    "PerformanceRating=int(PerformanceRating.value)\n",
    "\n",
    "RelationshipSatisfaction = mr.Text(value='0',label='RelationshipSatisfaction [1-5]')\n",
    "RelationshipSatisfaction=int(RelationshipSatisfaction.value)\n",
    "\n",
    "StockOptionLevel = mr.Text(value='0',label='StockOptionLevel [0-3]')\n",
    "StockOptionLevel=int(StockOptionLevel.value)\n",
    "\n",
    "TotalWorkingYears = mr.Text(value='1',label='TotalWorkingYears')\n",
    "TotalWorkingYears=int(TotalWorkingYears.value)\n",
    "\n",
    "TrainingTimesLastYear = mr.Text(value='0',label='TrainingTimesLastYear [0-6]')\n",
    "TrainingTimesLastYear=int(TrainingTimesLastYear.value)\n",
    "\n",
    "WorkLifeBalance = mr.Text(value='1',label='WorkLifeBalance [1-5]')\n",
    "WorkLifeBalance=int(WorkLifeBalance.value)\n",
    "\n",
    "YearsAtCompany = mr.Text(value='0',label='YearsAtCompany')\n",
    "YearsAtCompany=int(YearsAtCompany.value)\n",
    "\n",
    "YearsInCurrentRole = mr.Text(value='0',label='YearsInCurrentRole')\n",
    "YearsInCurrentRole=int(YearsInCurrentRole.value)\n",
    "\n",
    "YearsSinceLastPromotion = mr.Text(value='0',label='YearsSinceLastPromotion')\n",
    "YearsSinceLastPromotion=int(YearsSinceLastPromotion.value)\n",
    "\n",
    "YearsWithCurrManager = mr.Text(value='0',label='YearsWithCurrManager')\n",
    "YearsWithCurrManager=int(YearsWithCurrManager.value)\n",
    "\n",
    "Total_Satisfaction = EnvironmentSatisfaction+JobInvolvement+JobSatisfaction+RelationshipSatisfaction+WorkLifeBalance/5 \n",
    "Total_Satisfaction_bool = 1 if Total_Satisfaction>=2.2 else 0 \n",
    "\n",
    "Age_bool = 1 if Age<35 else 0\n",
    "DailyRate_bool = 1 if DailyRate<750 else 0\n",
    "Department_bool = 1 if Department=='Sales' else 0\n",
    "DistanceFromHome_bool = 1 if DistanceFromHome>10 else 0\n",
    "HourlyRate_bool = 1 if HourlyRate<65 else 0\n",
    "JobRole_bool = 1 if JobRole=='Sales Executive' else 0\n",
    "MonthlyIncome_bool = 1 if MonthlyIncome<3500 else 0\n",
    "NumCompaniesWorked_bool = 1 if NumCompaniesWorked>4 else 0\n",
    "TotalWorkingYears_bool = 1 if TotalWorkingYears<8 else 0\n",
    "YearsAtCompany_bool = 1 if YearsAtCompany<3 else 0\n",
    "YearsInCurrentRole_bool = 1 if YearsInCurrentRole<3 else 0\n",
    "YearsSinceLastPromotion_bool = 1 if YearsSinceLastPromotion<1 else 0\n",
    "YearsWithCurrManager_bool = 1 if YearsWithCurrManager<1 else 0\n",
    "Gender = 1 if Gender=='Female' else 0\n",
    "OverTime = 1 if OverTime=='Yes' else 0"
   ]
  },
  {
   "cell_type": "code",
   "execution_count": 41,
   "metadata": {},
   "outputs": [],
   "source": [
    "df = pd.DataFrame()\n",
    "df['BusinessTravel']=[BusinessTravel]\n",
    "df['Education']=[Education]\n",
    "df['EducationField']=[EducationField]\n",
    "df['Gender']=[Gender]\n",
    "df['JobLevel']=[JobLevel]\n",
    "df['MaritalStatus']=[MaritalStatus]\n",
    "df['OverTime']=[OverTime]\n",
    "df['PerformanceRating']=[PerformanceRating]\n",
    "df['StockOptionLevel']=[StockOptionLevel]\n",
    "df['TrainingTimesLastYear']=[TrainingTimesLastYear]\n",
    "df['Total_Satisfaction_bool']=[Total_Satisfaction_bool]\n",
    "df['Age_bool']=[Age_bool]\n",
    "df['DailyRate_bool']=[DailyRate_bool]\n",
    "df['Department_bool']=[Department_bool]\n",
    "df['DistanceFromHome_bool']=[DistanceFromHome_bool]\n",
    "df['HourlyRate_bool']=[HourlyRate_bool]\n",
    "df['JobRole_bool']=[JobRole_bool]\n",
    "df['MonthlyIncome_bool']=[MonthlyIncome_bool]\n",
    "df['NumCompaniesWorked_bool']=[NumCompaniesWorked_bool]\n",
    "df['TotalWorkingYears_bool']=[TotalWorkingYears_bool]\n",
    "df['YearsAtCompany_bool']=[YearsAtCompany_bool]\n",
    "df['YearsInCurrentRole_bool']=[YearsInCurrentRole_bool]\n",
    "df['YearsSinceLastPromotion_bool']=[YearsSinceLastPromotion_bool]\n",
    "df['YearsWithCurrManager_bool']=[YearsWithCurrManager_bool]"
   ]
  },
  {
   "cell_type": "code",
   "execution_count": 42,
   "metadata": {},
   "outputs": [],
   "source": [
    "convert_category = ['BusinessTravel','Education','EducationField','MaritalStatus','StockOptionLevel','OverTime','Gender','TrainingTimesLastYear']\n",
    "for col in convert_category:\n",
    "        df[col] = df[col].astype('category')"
   ]
  },
  {
   "cell_type": "code",
   "execution_count": 43,
   "metadata": {},
   "outputs": [],
   "source": [
    "#separate the categorical and numerical column\n",
    "X_categorical = df.select_dtypes(include=['category'])\n",
    "X_numerical = df.select_dtypes(include=['int64'])"
   ]
  },
  {
   "cell_type": "code",
   "execution_count": 44,
   "metadata": {},
   "outputs": [],
   "source": [
    "onehotencoder=pickle.load(open('encoder.pkl','rb'))"
   ]
  },
  {
   "cell_type": "code",
   "execution_count": 45,
   "metadata": {},
   "outputs": [],
   "source": [
    "X_categorical = onehotencoder.transform(X_categorical).toarray()\n",
    "X_categorical = pd.DataFrame(X_categorical)"
   ]
  },
  {
   "cell_type": "code",
   "execution_count": 46,
   "metadata": {},
   "outputs": [],
   "source": [
    "X_all = pd.concat([X_categorical, X_numerical], axis=1)\n",
    "X_all.columns = X_all.columns.astype(str)"
   ]
  },
  {
   "cell_type": "code",
   "execution_count": 47,
   "metadata": {},
   "outputs": [],
   "source": [
    "scaler=pickle.load(open('scaler.pkl','rb'))\n",
    "X = scaler.transform(X_all)"
   ]
  },
  {
   "cell_type": "code",
   "execution_count": 48,
   "metadata": {},
   "outputs": [
    {
     "name": "stdout",
     "output_type": "stream",
     "text": [
      "-------------Prediction-------------\n",
      "Attrition: Yes\n",
      "------------------------------------\n",
      "There's 90.63% chance of attrition\n",
      "------------------------------------\n"
     ]
    }
   ],
   "source": [
    "prediction = 'Yes' if model.predict(X)[0] else 'NO'\n",
    "chance='{:.2f}'.format(model.predict_proba(X)[0][1]*100)\n",
    "print('-------------Prediction-------------')\n",
    "print(f'Attrition: {prediction}')\n",
    "print('------------------------------------')\n",
    "print(f\"There's {chance}% chance of attrition\")\n",
    "print('------------------------------------')"
   ]
  }
 ],
 "metadata": {
  "kernelspec": {
   "display_name": "Python 3",
   "language": "python",
   "name": "python3"
  },
  "language_info": {
   "codemirror_mode": {
    "name": "ipython",
    "version": 3
   },
   "file_extension": ".py",
   "mimetype": "text/x-python",
   "name": "python",
   "nbconvert_exporter": "python",
   "pygments_lexer": "ipython3",
   "version": "3.11.0"
  },
  "orig_nbformat": 4
 },
 "nbformat": 4,
 "nbformat_minor": 2
}
