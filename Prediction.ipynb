{
 "cells": [
  {
   "cell_type": "code",
   "execution_count": 78,
   "metadata": {},
   "outputs": [],
   "source": [
    "import pickle\n",
    "model = pickle.load(open('model.pkl','rb'))"
   ]
  },
  {
   "cell_type": "code",
   "execution_count": 79,
   "metadata": {},
   "outputs": [],
   "source": [
    "import numpy as np\n",
    "import mercury as mr"
   ]
  },
  {
   "cell_type": "code",
   "execution_count": 80,
   "metadata": {},
   "outputs": [
    {
     "data": {
      "application/mercury+json": {
       "code_uid": "Checkbox.0.40.11.2-randdab62396",
       "disabled": false,
       "hidden": false,
       "label": "Show code",
       "model_id": "517ac83161474b97b9f0352c3c3c501f",
       "url_key": "",
       "value": false,
       "widget": "Checkbox"
      },
      "application/vnd.jupyter.widget-view+json": {
       "model_id": "517ac83161474b97b9f0352c3c3c501f",
       "version_major": 2,
       "version_minor": 0
      },
      "text/plain": [
       "mercury.Checkbox"
      ]
     },
     "metadata": {},
     "output_type": "display_data"
    },
    {
     "data": {
      "application/mercury+json": {
       "allow_download": true,
       "code_uid": "App.0.40.24.3-rand4476f022",
       "continuous_update": true,
       "description": "Mini Project",
       "full_screen": true,
       "model_id": "mercury-app",
       "notify": "{}",
       "output": "app",
       "schedule": "",
       "show_code": false,
       "show_prompt": false,
       "show_sidebar": true,
       "static_notebook": false,
       "title": "DSBDA",
       "widget": "App"
      },
      "text/html": [
       "<h3>Mercury Application</h3><small>This output won't appear in the web app.</small>"
      ],
      "text/plain": [
       "mercury.App"
      ]
     },
     "metadata": {},
     "output_type": "display_data"
    }
   ],
   "source": [
    "# Create Mercury App\n",
    "show_code = mr.Checkbox(label=\"Show code\", value=False)\n",
    "app = mr.App(title=\"DSBDA\", description=\"Mini Project\",show_code=show_code.value)"
   ]
  },
  {
   "cell_type": "code",
   "execution_count": 81,
   "metadata": {},
   "outputs": [],
   "source": [
    "import pandas as pd\n",
    "employee_df = pd.read_csv('WA_Fn-UseC_-HR-Employee-Attrition.csv')"
   ]
  },
  {
   "cell_type": "code",
   "execution_count": 82,
   "metadata": {},
   "outputs": [
    {
     "data": {
      "application/mercury+json": {
       "code_uid": "Text.0.40.15.1-rand9b4149d6",
       "disabled": false,
       "hidden": false,
       "label": "Enter Age",
       "model_id": "175896b1c0d148499cef471996dea086",
       "rows": 1,
       "url_key": "",
       "value": "18",
       "widget": "Text"
      },
      "application/vnd.jupyter.widget-view+json": {
       "model_id": "175896b1c0d148499cef471996dea086",
       "version_major": 2,
       "version_minor": 0
      },
      "text/plain": [
       "mercury.Text"
      ]
     },
     "metadata": {},
     "output_type": "display_data"
    },
    {
     "data": {
      "application/mercury+json": {
       "choices": [
        "Travel_Rarely",
        "Travel_Frequently",
        "Non-Travel"
       ],
       "code_uid": "Select.0.40.16.4-rand569bca55",
       "disabled": false,
       "hidden": false,
       "label": "BusinessTravel",
       "model_id": "36b386e4877545bda274b01f5420f9ce",
       "url_key": "",
       "value": "Travel_Rarely",
       "widget": "Select"
      },
      "application/vnd.jupyter.widget-view+json": {
       "model_id": "36b386e4877545bda274b01f5420f9ce",
       "version_major": 2,
       "version_minor": 0
      },
      "text/plain": [
       "mercury.Select"
      ]
     },
     "metadata": {},
     "output_type": "display_data"
    },
    {
     "data": {
      "application/mercury+json": {
       "code_uid": "Text.0.40.15.7-rand062a8fb0",
       "disabled": false,
       "hidden": false,
       "label": "DailyRate",
       "model_id": "e560ea97f23a47b39565526c03ae87e5",
       "rows": 1,
       "url_key": "",
       "value": "0",
       "widget": "Text"
      },
      "application/vnd.jupyter.widget-view+json": {
       "model_id": "e560ea97f23a47b39565526c03ae87e5",
       "version_major": 2,
       "version_minor": 0
      },
      "text/plain": [
       "mercury.Text"
      ]
     },
     "metadata": {},
     "output_type": "display_data"
    },
    {
     "data": {
      "application/mercury+json": {
       "choices": [
        "Sales",
        "Research & Development",
        "Human Resources"
       ],
       "code_uid": "Select.0.40.16.10-randc34384f4",
       "disabled": false,
       "hidden": false,
       "label": "Department",
       "model_id": "d2e465b8e99b4a61ae8d5753148c2500",
       "url_key": "",
       "value": "Sales",
       "widget": "Select"
      },
      "application/vnd.jupyter.widget-view+json": {
       "model_id": "d2e465b8e99b4a61ae8d5753148c2500",
       "version_major": 2,
       "version_minor": 0
      },
      "text/plain": [
       "mercury.Select"
      ]
     },
     "metadata": {},
     "output_type": "display_data"
    },
    {
     "data": {
      "application/mercury+json": {
       "code_uid": "Text.0.40.15.13-randadfb3bca",
       "disabled": false,
       "hidden": false,
       "label": "DistanceFromHome",
       "model_id": "c0cd91e4e4104e4eb01b09eb8c3084d7",
       "rows": 1,
       "url_key": "",
       "value": "0",
       "widget": "Text"
      },
      "application/vnd.jupyter.widget-view+json": {
       "model_id": "c0cd91e4e4104e4eb01b09eb8c3084d7",
       "version_major": 2,
       "version_minor": 0
      },
      "text/plain": [
       "mercury.Text"
      ]
     },
     "metadata": {},
     "output_type": "display_data"
    },
    {
     "data": {
      "application/mercury+json": {
       "code_uid": "Text.0.40.15.16-rand69cb134b",
       "disabled": false,
       "hidden": false,
       "label": "Education [1-5]",
       "model_id": "5c656ab31d694729a5dfe6b345cbfd57",
       "rows": 1,
       "url_key": "",
       "value": "1",
       "widget": "Text"
      },
      "application/vnd.jupyter.widget-view+json": {
       "model_id": "5c656ab31d694729a5dfe6b345cbfd57",
       "version_major": 2,
       "version_minor": 0
      },
      "text/plain": [
       "mercury.Text"
      ]
     },
     "metadata": {},
     "output_type": "display_data"
    },
    {
     "data": {
      "application/mercury+json": {
       "choices": [
        "Life Sciences",
        "Other",
        "Medical",
        "Marketing",
        "Technical Degree",
        "Human Resources"
       ],
       "code_uid": "Select.0.40.16.19-randb184a83d",
       "disabled": false,
       "hidden": false,
       "label": "EducationField",
       "model_id": "1a11403a423e404cabc586dc01b235a7",
       "url_key": "",
       "value": "Life Sciences",
       "widget": "Select"
      },
      "application/vnd.jupyter.widget-view+json": {
       "model_id": "1a11403a423e404cabc586dc01b235a7",
       "version_major": 2,
       "version_minor": 0
      },
      "text/plain": [
       "mercury.Select"
      ]
     },
     "metadata": {},
     "output_type": "display_data"
    },
    {
     "data": {
      "application/mercury+json": {
       "code_uid": "Text.0.40.15.22-rand0266b4e6",
       "disabled": false,
       "hidden": false,
       "label": "EnvironmentSatisfaction [1-5]",
       "model_id": "7625291a80a14d418ffa7ba7285231bb",
       "rows": 1,
       "url_key": "",
       "value": "1",
       "widget": "Text"
      },
      "application/vnd.jupyter.widget-view+json": {
       "model_id": "7625291a80a14d418ffa7ba7285231bb",
       "version_major": 2,
       "version_minor": 0
      },
      "text/plain": [
       "mercury.Text"
      ]
     },
     "metadata": {},
     "output_type": "display_data"
    },
    {
     "data": {
      "application/mercury+json": {
       "choices": [
        "Female",
        "Male"
       ],
       "code_uid": "Select.0.40.16.25-randc6030b10",
       "disabled": false,
       "hidden": false,
       "label": "Gender",
       "model_id": "e2405828b24944eeba3126a09428c6f2",
       "url_key": "",
       "value": "Female",
       "widget": "Select"
      },
      "application/vnd.jupyter.widget-view+json": {
       "model_id": "e2405828b24944eeba3126a09428c6f2",
       "version_major": 2,
       "version_minor": 0
      },
      "text/plain": [
       "mercury.Select"
      ]
     },
     "metadata": {},
     "output_type": "display_data"
    },
    {
     "data": {
      "application/mercury+json": {
       "code_uid": "Text.0.40.15.28-rand6cf00a5c",
       "disabled": false,
       "hidden": false,
       "label": "JobInvolvement [1-5]",
       "model_id": "b97e26dfaf584dba98892f166c89345b",
       "rows": 1,
       "url_key": "",
       "value": "1",
       "widget": "Text"
      },
      "application/vnd.jupyter.widget-view+json": {
       "model_id": "b97e26dfaf584dba98892f166c89345b",
       "version_major": 2,
       "version_minor": 0
      },
      "text/plain": [
       "mercury.Text"
      ]
     },
     "metadata": {},
     "output_type": "display_data"
    },
    {
     "data": {
      "application/mercury+json": {
       "code_uid": "Text.0.40.15.31-rand8c916251",
       "disabled": false,
       "hidden": false,
       "label": "JobLevel [1-5]",
       "model_id": "c944fc348c08458ba80db9fefa46dddc",
       "rows": 1,
       "url_key": "",
       "value": "1",
       "widget": "Text"
      },
      "application/vnd.jupyter.widget-view+json": {
       "model_id": "c944fc348c08458ba80db9fefa46dddc",
       "version_major": 2,
       "version_minor": 0
      },
      "text/plain": [
       "mercury.Text"
      ]
     },
     "metadata": {},
     "output_type": "display_data"
    },
    {
     "data": {
      "application/mercury+json": {
       "choices": [
        "Sales Executive",
        "Research Scientist",
        "Laboratory Technician",
        "Manufacturing Director",
        "Healthcare Representative",
        "Manager",
        "Sales Representative",
        "Research Director",
        "Human Resources"
       ],
       "code_uid": "Select.0.40.16.34-rand9565b91b",
       "disabled": false,
       "hidden": false,
       "label": "JobRole",
       "model_id": "e8f73e167a7047838b7ce1714c9c7d87",
       "url_key": "",
       "value": "Sales Executive",
       "widget": "Select"
      },
      "application/vnd.jupyter.widget-view+json": {
       "model_id": "e8f73e167a7047838b7ce1714c9c7d87",
       "version_major": 2,
       "version_minor": 0
      },
      "text/plain": [
       "mercury.Select"
      ]
     },
     "metadata": {},
     "output_type": "display_data"
    },
    {
     "data": {
      "application/mercury+json": {
       "code_uid": "Text.0.40.15.37-rande4fa0469",
       "disabled": false,
       "hidden": false,
       "label": "JobSatisfaction [1-5]",
       "model_id": "86f5bf44386847bba9e680b8ac87233e",
       "rows": 1,
       "url_key": "",
       "value": "1",
       "widget": "Text"
      },
      "application/vnd.jupyter.widget-view+json": {
       "model_id": "86f5bf44386847bba9e680b8ac87233e",
       "version_major": 2,
       "version_minor": 0
      },
      "text/plain": [
       "mercury.Text"
      ]
     },
     "metadata": {},
     "output_type": "display_data"
    },
    {
     "data": {
      "application/mercury+json": {
       "choices": [
        "Single",
        "Married",
        "Divorced"
       ],
       "code_uid": "Select.0.40.16.40-rand1b8e8c61",
       "disabled": false,
       "hidden": false,
       "label": "MaritalStatus",
       "model_id": "130d1ce0ef7b4498896959e3024199d7",
       "url_key": "",
       "value": "Single",
       "widget": "Select"
      },
      "application/vnd.jupyter.widget-view+json": {
       "model_id": "130d1ce0ef7b4498896959e3024199d7",
       "version_major": 2,
       "version_minor": 0
      },
      "text/plain": [
       "mercury.Select"
      ]
     },
     "metadata": {},
     "output_type": "display_data"
    },
    {
     "data": {
      "application/mercury+json": {
       "code_uid": "Text.0.40.15.43-randb8c58c0c",
       "disabled": false,
       "hidden": false,
       "label": "MonthlyIncome",
       "model_id": "79a18cbd658f444191e3d9ba319c4d51",
       "rows": 1,
       "url_key": "",
       "value": "1000",
       "widget": "Text"
      },
      "application/vnd.jupyter.widget-view+json": {
       "model_id": "79a18cbd658f444191e3d9ba319c4d51",
       "version_major": 2,
       "version_minor": 0
      },
      "text/plain": [
       "mercury.Text"
      ]
     },
     "metadata": {},
     "output_type": "display_data"
    },
    {
     "data": {
      "application/mercury+json": {
       "code_uid": "Text.0.40.15.46-rand90ddf09e",
       "disabled": false,
       "hidden": false,
       "label": "MonthlyRate",
       "model_id": "9a2490c0f26c4584b9d0a6c10c00d873",
       "rows": 1,
       "url_key": "",
       "value": "1000",
       "widget": "Text"
      },
      "application/vnd.jupyter.widget-view+json": {
       "model_id": "9a2490c0f26c4584b9d0a6c10c00d873",
       "version_major": 2,
       "version_minor": 0
      },
      "text/plain": [
       "mercury.Text"
      ]
     },
     "metadata": {},
     "output_type": "display_data"
    },
    {
     "data": {
      "application/mercury+json": {
       "code_uid": "Text.0.40.15.49-randa01241c5",
       "disabled": false,
       "hidden": false,
       "label": "NumCompaniesWorked",
       "model_id": "041a144ca0074eff8401192b52b44636",
       "rows": 1,
       "url_key": "",
       "value": "0",
       "widget": "Text"
      },
      "application/vnd.jupyter.widget-view+json": {
       "model_id": "041a144ca0074eff8401192b52b44636",
       "version_major": 2,
       "version_minor": 0
      },
      "text/plain": [
       "mercury.Text"
      ]
     },
     "metadata": {},
     "output_type": "display_data"
    },
    {
     "data": {
      "application/mercury+json": {
       "choices": [
        "Yes",
        "No"
       ],
       "code_uid": "Select.0.40.16.52-rande9daf51b",
       "disabled": false,
       "hidden": false,
       "label": "OverTime",
       "model_id": "9170f41d23924f169ca5756dd9a03c56",
       "url_key": "",
       "value": "Yes",
       "widget": "Select"
      },
      "application/vnd.jupyter.widget-view+json": {
       "model_id": "9170f41d23924f169ca5756dd9a03c56",
       "version_major": 2,
       "version_minor": 0
      },
      "text/plain": [
       "mercury.Select"
      ]
     },
     "metadata": {},
     "output_type": "display_data"
    },
    {
     "data": {
      "application/mercury+json": {
       "code_uid": "Text.0.40.15.55-rand033e25da",
       "disabled": false,
       "hidden": false,
       "label": "HourlyRate",
       "model_id": "2bf0a802a9644eaab054f8bd867cec6f",
       "rows": 1,
       "url_key": "",
       "value": "10",
       "widget": "Text"
      },
      "application/vnd.jupyter.widget-view+json": {
       "model_id": "2bf0a802a9644eaab054f8bd867cec6f",
       "version_major": 2,
       "version_minor": 0
      },
      "text/plain": [
       "mercury.Text"
      ]
     },
     "metadata": {},
     "output_type": "display_data"
    },
    {
     "data": {
      "application/mercury+json": {
       "code_uid": "Text.0.40.15.58-rand65462af2",
       "disabled": false,
       "hidden": false,
       "label": "PercentSalaryHike",
       "model_id": "7b64ce1dd70a449c92204140687bce52",
       "rows": 1,
       "url_key": "",
       "value": "0",
       "widget": "Text"
      },
      "application/vnd.jupyter.widget-view+json": {
       "model_id": "7b64ce1dd70a449c92204140687bce52",
       "version_major": 2,
       "version_minor": 0
      },
      "text/plain": [
       "mercury.Text"
      ]
     },
     "metadata": {},
     "output_type": "display_data"
    },
    {
     "data": {
      "application/mercury+json": {
       "code_uid": "Text.0.40.15.61-rand48012f71",
       "disabled": false,
       "hidden": false,
       "label": "PerformanceRating [3-4]",
       "model_id": "ee52fafb0600411083bc7eb670ed56ec",
       "rows": 1,
       "url_key": "",
       "value": "3",
       "widget": "Text"
      },
      "application/vnd.jupyter.widget-view+json": {
       "model_id": "ee52fafb0600411083bc7eb670ed56ec",
       "version_major": 2,
       "version_minor": 0
      },
      "text/plain": [
       "mercury.Text"
      ]
     },
     "metadata": {},
     "output_type": "display_data"
    },
    {
     "data": {
      "application/mercury+json": {
       "code_uid": "Text.0.40.15.64-rand14677e11",
       "disabled": false,
       "hidden": false,
       "label": "RelationshipSatisfaction [1-5]",
       "model_id": "c8481ad655f5409aa1b51649a000c038",
       "rows": 1,
       "url_key": "",
       "value": "0",
       "widget": "Text"
      },
      "application/vnd.jupyter.widget-view+json": {
       "model_id": "c8481ad655f5409aa1b51649a000c038",
       "version_major": 2,
       "version_minor": 0
      },
      "text/plain": [
       "mercury.Text"
      ]
     },
     "metadata": {},
     "output_type": "display_data"
    },
    {
     "data": {
      "application/mercury+json": {
       "code_uid": "Text.0.40.15.67-randab24e88e",
       "disabled": false,
       "hidden": false,
       "label": "StockOptionLevel [0-3]",
       "model_id": "ce89fd98837040e58564862182f7162d",
       "rows": 1,
       "url_key": "",
       "value": "0",
       "widget": "Text"
      },
      "application/vnd.jupyter.widget-view+json": {
       "model_id": "ce89fd98837040e58564862182f7162d",
       "version_major": 2,
       "version_minor": 0
      },
      "text/plain": [
       "mercury.Text"
      ]
     },
     "metadata": {},
     "output_type": "display_data"
    },
    {
     "data": {
      "application/mercury+json": {
       "code_uid": "Text.0.40.15.70-rand0a9a8610",
       "disabled": false,
       "hidden": false,
       "label": "TotalWorkingYears",
       "model_id": "9b482b40760d40dbb24a0a2355803295",
       "rows": 1,
       "url_key": "",
       "value": "1",
       "widget": "Text"
      },
      "application/vnd.jupyter.widget-view+json": {
       "model_id": "9b482b40760d40dbb24a0a2355803295",
       "version_major": 2,
       "version_minor": 0
      },
      "text/plain": [
       "mercury.Text"
      ]
     },
     "metadata": {},
     "output_type": "display_data"
    },
    {
     "data": {
      "application/mercury+json": {
       "code_uid": "Text.0.40.15.73-rand7105c8bf",
       "disabled": false,
       "hidden": false,
       "label": "TrainingTimesLastYear [0-6]",
       "model_id": "96f2dc5e0fa24675b11b36236d4317cb",
       "rows": 1,
       "url_key": "",
       "value": "0",
       "widget": "Text"
      },
      "application/vnd.jupyter.widget-view+json": {
       "model_id": "96f2dc5e0fa24675b11b36236d4317cb",
       "version_major": 2,
       "version_minor": 0
      },
      "text/plain": [
       "mercury.Text"
      ]
     },
     "metadata": {},
     "output_type": "display_data"
    },
    {
     "data": {
      "application/mercury+json": {
       "code_uid": "Text.0.40.15.76-rand8ed8a847",
       "disabled": false,
       "hidden": false,
       "label": "WorkLifeBalance [1-5]",
       "model_id": "61213b623c5041faabb9cfb139d4cf8a",
       "rows": 1,
       "url_key": "",
       "value": "1",
       "widget": "Text"
      },
      "application/vnd.jupyter.widget-view+json": {
       "model_id": "61213b623c5041faabb9cfb139d4cf8a",
       "version_major": 2,
       "version_minor": 0
      },
      "text/plain": [
       "mercury.Text"
      ]
     },
     "metadata": {},
     "output_type": "display_data"
    },
    {
     "data": {
      "application/mercury+json": {
       "code_uid": "Text.0.40.15.79-randa898c88e",
       "disabled": false,
       "hidden": false,
       "label": "YearsAtCompany",
       "model_id": "bae4f0b467ae4d398936191f57687853",
       "rows": 1,
       "url_key": "",
       "value": "0",
       "widget": "Text"
      },
      "application/vnd.jupyter.widget-view+json": {
       "model_id": "bae4f0b467ae4d398936191f57687853",
       "version_major": 2,
       "version_minor": 0
      },
      "text/plain": [
       "mercury.Text"
      ]
     },
     "metadata": {},
     "output_type": "display_data"
    },
    {
     "data": {
      "application/mercury+json": {
       "code_uid": "Text.0.40.15.82-rand040a182b",
       "disabled": false,
       "hidden": false,
       "label": "YearsInCurrentRole",
       "model_id": "e7dbe05c116340a3ad968678f762b001",
       "rows": 1,
       "url_key": "",
       "value": "0",
       "widget": "Text"
      },
      "application/vnd.jupyter.widget-view+json": {
       "model_id": "e7dbe05c116340a3ad968678f762b001",
       "version_major": 2,
       "version_minor": 0
      },
      "text/plain": [
       "mercury.Text"
      ]
     },
     "metadata": {},
     "output_type": "display_data"
    },
    {
     "data": {
      "application/mercury+json": {
       "code_uid": "Text.0.40.15.85-randba3880a5",
       "disabled": false,
       "hidden": false,
       "label": "YearsSinceLastPromotion",
       "model_id": "ffb985fe9c494c0f954d50cf61c4665e",
       "rows": 1,
       "url_key": "",
       "value": "0",
       "widget": "Text"
      },
      "application/vnd.jupyter.widget-view+json": {
       "model_id": "ffb985fe9c494c0f954d50cf61c4665e",
       "version_major": 2,
       "version_minor": 0
      },
      "text/plain": [
       "mercury.Text"
      ]
     },
     "metadata": {},
     "output_type": "display_data"
    },
    {
     "data": {
      "application/mercury+json": {
       "code_uid": "Text.0.40.15.88-rand231ea6ef",
       "disabled": false,
       "hidden": false,
       "label": "YearsWithCurrManager",
       "model_id": "199ca9de4bcb471bafab6f55fc6b2892",
       "rows": 1,
       "url_key": "",
       "value": "0",
       "widget": "Text"
      },
      "application/vnd.jupyter.widget-view+json": {
       "model_id": "199ca9de4bcb471bafab6f55fc6b2892",
       "version_major": 2,
       "version_minor": 0
      },
      "text/plain": [
       "mercury.Text"
      ]
     },
     "metadata": {},
     "output_type": "display_data"
    }
   ],
   "source": [
    "Age = mr.Text(value='18',label='Enter Age')\n",
    "Age=int(Age.value)\n",
    "\n",
    "BusinessTravel = mr.Select(value='Travel_Rarely',choices=employee_df['BusinessTravel'].unique(), label='BusinessTravel')\n",
    "BusinessTravel=BusinessTravel.value\n",
    "\n",
    "DailyRate = mr.Text(value='0',label='DailyRate')\n",
    "DailyRate=int(DailyRate.value)\n",
    "\n",
    "Department = mr.Select(value='Sales',choices=employee_df['Department'].unique(),label='Department')\n",
    "Department=Department.value\n",
    "\n",
    "DistanceFromHome = mr.Text(value='0',label='DistanceFromHome')\n",
    "DistanceFromHome = int(DistanceFromHome.value)\n",
    "\n",
    "Education = mr.Text(value='1',label='Education [1-5]')\n",
    "Education=int(Education.value)\n",
    "\n",
    "EducationField = mr.Select(value='Life Sciences',choices=employee_df['EducationField'].unique(),label='EducationField')\n",
    "EducationField=EducationField.value\n",
    "\n",
    "EnvironmentSatisfaction = mr.Text(value='1',label='EnvironmentSatisfaction [1-5]')\n",
    "EnvironmentSatisfaction=int(EnvironmentSatisfaction.value)\n",
    "\n",
    "Gender = mr.Select(value='Female',choices=employee_df['Gender'].unique(),label='Gender')\n",
    "Gender=Gender.value\n",
    "\n",
    "JobInvolvement = mr.Text(value='1',label='JobInvolvement [1-5]')\n",
    "JobInvolvement=int(JobInvolvement.value)\n",
    "\n",
    "JobLevel = mr.Text(value='1',label='JobLevel [1-5]')\n",
    "JobLevel=int(JobLevel.value)\n",
    "\n",
    "JobRole = mr.Select(value='Sales Executive',choices=employee_df['JobRole'].unique(),label='JobRole')\n",
    "JobRole=JobRole.value\n",
    "\n",
    "JobSatisfaction = mr.Text(value='1',label='JobSatisfaction [1-5]')\n",
    "JobSatisfaction=int(JobSatisfaction.value)\n",
    "\n",
    "MaritalStatus = mr.Select(value='Single',choices=employee_df['MaritalStatus'].unique(),label='MaritalStatus')\n",
    "MaritalStatus=MaritalStatus.value\n",
    "\n",
    "MonthlyIncome = mr.Text(value='1000',label='MonthlyIncome')\n",
    "MonthlyIncome=int(MonthlyIncome.value)\n",
    "\n",
    "MonthlyRate = mr.Text(value='1000',label='MonthlyRate')\n",
    "MonthlyRate=int(MonthlyRate.value)\n",
    "\n",
    "NumCompaniesWorked = mr.Text(value='0',label='NumCompaniesWorked')\n",
    "NumCompaniesWorked=int(NumCompaniesWorked.value)\n",
    "\n",
    "OverTime = mr.Select(value='Yes',choices=employee_df['OverTime'].unique(),label='OverTime')\n",
    "OverTime=OverTime.value\n",
    "\n",
    "HourlyRate = mr.Text(value='10',label='HourlyRate')\n",
    "HourlyRate=int(HourlyRate.value)\n",
    "\n",
    "PercentSalaryHike = mr.Text(value='0',label='PercentSalaryHike')\n",
    "PercentSalaryHike=int(PercentSalaryHike.value)\n",
    "\n",
    "PerformanceRating = mr.Text(value='3',label='PerformanceRating [3-4]')\n",
    "PerformanceRating=int(PerformanceRating.value)\n",
    "\n",
    "RelationshipSatisfaction = mr.Text(value='0',label='RelationshipSatisfaction [1-5]')\n",
    "RelationshipSatisfaction=int(RelationshipSatisfaction.value)\n",
    "\n",
    "StockOptionLevel = mr.Text(value='0',label='StockOptionLevel [0-3]')\n",
    "StockOptionLevel=int(StockOptionLevel.value)\n",
    "\n",
    "TotalWorkingYears = mr.Text(value='1',label='TotalWorkingYears')\n",
    "TotalWorkingYears=int(TotalWorkingYears.value)\n",
    "\n",
    "TrainingTimesLastYear = mr.Text(value='0',label='TrainingTimesLastYear [0-6]')\n",
    "TrainingTimesLastYear=int(TrainingTimesLastYear.value)\n",
    "\n",
    "WorkLifeBalance = mr.Text(value='1',label='WorkLifeBalance [1-5]')\n",
    "WorkLifeBalance=int(WorkLifeBalance.value)\n",
    "\n",
    "YearsAtCompany = mr.Text(value='0',label='YearsAtCompany')\n",
    "YearsAtCompany=int(YearsAtCompany.value)\n",
    "\n",
    "YearsInCurrentRole = mr.Text(value='0',label='YearsInCurrentRole')\n",
    "YearsInCurrentRole=int(YearsInCurrentRole.value)\n",
    "\n",
    "YearsSinceLastPromotion = mr.Text(value='0',label='YearsSinceLastPromotion')\n",
    "YearsSinceLastPromotion=int(YearsSinceLastPromotion.value)\n",
    "\n",
    "YearsWithCurrManager = mr.Text(value='0',label='YearsWithCurrManager')\n",
    "YearsWithCurrManager=int(YearsWithCurrManager.value)\n",
    "\n",
    "Total_Satisfaction = EnvironmentSatisfaction+JobInvolvement+JobSatisfaction+RelationshipSatisfaction+WorkLifeBalance/5 \n",
    "Total_Satisfaction_bool = 1 if Total_Satisfaction>=2.2 else 0 \n",
    "\n",
    "Age_bool = 1 if Age<35 else 0\n",
    "DailyRate_bool = 1 if DailyRate<750 else 0\n",
    "Department_bool = 1 if Department=='Sales' else 0\n",
    "DistanceFromHome_bool = 1 if DistanceFromHome>10 else 0\n",
    "HourlyRate_bool = 1 if HourlyRate<65 else 0\n",
    "JobRole_bool = 1 if JobRole=='Sales Executive' else 0\n",
    "MonthlyIncome_bool = 1 if MonthlyIncome<3500 else 0\n",
    "NumCompaniesWorked_bool = 1 if NumCompaniesWorked>4 else 0\n",
    "TotalWorkingYears_bool = 1 if TotalWorkingYears<8 else 0\n",
    "YearsAtCompany_bool = 1 if YearsAtCompany<3 else 0\n",
    "YearsInCurrentRole_bool = 1 if YearsInCurrentRole<3 else 0\n",
    "YearsSinceLastPromotion_bool = 1 if YearsSinceLastPromotion<1 else 0\n",
    "YearsWithCurrManager_bool = 1 if YearsWithCurrManager<1 else 0\n",
    "Gender = 1 if Gender=='Female' else 0\n",
    "OverTime = 1 if OverTime=='Yes' else 0"
   ]
  },
  {
   "cell_type": "code",
   "execution_count": 83,
   "metadata": {},
   "outputs": [],
   "source": [
    "df = pd.DataFrame()"
   ]
  },
  {
   "cell_type": "code",
   "execution_count": 84,
   "metadata": {},
   "outputs": [],
   "source": [
    "df['BusinessTravel']=[BusinessTravel]\n",
    "df['Education']=[Education]\n",
    "df['EducationField']=[EducationField]\n",
    "df['Gender']=[Gender]\n",
    "df['JobLevel']=[JobLevel]\n",
    "df['MaritalStatus']=[MaritalStatus]\n",
    "df['OverTime']=[OverTime]\n",
    "df['PerformanceRating']=[PerformanceRating]\n",
    "df['StockOptionLevel']=[StockOptionLevel]\n",
    "df['TrainingTimesLastYear']=[TrainingTimesLastYear]\n",
    "df['Total_Satisfaction_bool']=[Total_Satisfaction_bool]\n",
    "df['Age_bool']=[Age_bool]\n",
    "df['DailyRate_bool']=[DailyRate_bool]\n",
    "df['Department_bool']=[Department_bool]\n",
    "df['DistanceFromHome_bool']=[DistanceFromHome_bool]\n",
    "df['HourlyRate_bool']=[HourlyRate_bool]\n",
    "df['JobRole_bool']=[JobRole_bool]\n",
    "df['MonthlyIncome_bool']=[MonthlyIncome_bool]\n",
    "df['NumCompaniesWorked_bool']=[NumCompaniesWorked_bool]\n",
    "df['TotalWorkingYears_bool']=[TotalWorkingYears_bool]\n",
    "df['YearsAtCompany_bool']=[YearsAtCompany_bool]\n",
    "df['YearsInCurrentRole_bool']=[YearsInCurrentRole_bool]\n",
    "df['YearsSinceLastPromotion_bool']=[YearsSinceLastPromotion_bool]\n",
    "df['YearsWithCurrManager_bool']=[YearsWithCurrManager_bool]"
   ]
  },
  {
   "cell_type": "code",
   "execution_count": 85,
   "metadata": {},
   "outputs": [],
   "source": [
    "convert_category = ['BusinessTravel','Education','EducationField','MaritalStatus','StockOptionLevel','OverTime','Gender','TrainingTimesLastYear']\n",
    "for col in convert_category:\n",
    "        df[col] = df[col].astype('category')"
   ]
  },
  {
   "cell_type": "code",
   "execution_count": 86,
   "metadata": {},
   "outputs": [],
   "source": [
    "#separate the categorical and numerical column\n",
    "X_categorical = df.select_dtypes(include=['category'])\n",
    "X_numerical = df.select_dtypes(include=['int64'])"
   ]
  },
  {
   "cell_type": "code",
   "execution_count": 87,
   "metadata": {},
   "outputs": [],
   "source": [
    "onehotencoder=pickle.load(open('encoder.pkl','rb'))"
   ]
  },
  {
   "cell_type": "code",
   "execution_count": 88,
   "metadata": {},
   "outputs": [
    {
     "data": {
      "text/html": [
       "<div>\n",
       "<style scoped>\n",
       "    .dataframe tbody tr th:only-of-type {\n",
       "        vertical-align: middle;\n",
       "    }\n",
       "\n",
       "    .dataframe tbody tr th {\n",
       "        vertical-align: top;\n",
       "    }\n",
       "\n",
       "    .dataframe thead th {\n",
       "        text-align: right;\n",
       "    }\n",
       "</style>\n",
       "<table border=\"1\" class=\"dataframe\">\n",
       "  <thead>\n",
       "    <tr style=\"text-align: right;\">\n",
       "      <th></th>\n",
       "      <th>0</th>\n",
       "      <th>1</th>\n",
       "      <th>2</th>\n",
       "      <th>3</th>\n",
       "      <th>4</th>\n",
       "      <th>5</th>\n",
       "      <th>6</th>\n",
       "      <th>7</th>\n",
       "      <th>8</th>\n",
       "      <th>9</th>\n",
       "      <th>...</th>\n",
       "      <th>22</th>\n",
       "      <th>23</th>\n",
       "      <th>24</th>\n",
       "      <th>25</th>\n",
       "      <th>26</th>\n",
       "      <th>27</th>\n",
       "      <th>28</th>\n",
       "      <th>29</th>\n",
       "      <th>30</th>\n",
       "      <th>31</th>\n",
       "    </tr>\n",
       "  </thead>\n",
       "  <tbody>\n",
       "    <tr>\n",
       "      <th>0</th>\n",
       "      <td>0.0</td>\n",
       "      <td>0.0</td>\n",
       "      <td>1.0</td>\n",
       "      <td>1.0</td>\n",
       "      <td>0.0</td>\n",
       "      <td>0.0</td>\n",
       "      <td>0.0</td>\n",
       "      <td>0.0</td>\n",
       "      <td>0.0</td>\n",
       "      <td>1.0</td>\n",
       "      <td>...</td>\n",
       "      <td>0.0</td>\n",
       "      <td>0.0</td>\n",
       "      <td>0.0</td>\n",
       "      <td>1.0</td>\n",
       "      <td>0.0</td>\n",
       "      <td>0.0</td>\n",
       "      <td>0.0</td>\n",
       "      <td>0.0</td>\n",
       "      <td>0.0</td>\n",
       "      <td>0.0</td>\n",
       "    </tr>\n",
       "  </tbody>\n",
       "</table>\n",
       "<p>1 rows × 32 columns</p>\n",
       "</div>"
      ],
      "text/plain": [
       "    0    1    2    3    4    5    6    7    8    9   ...   22   23   24   25  \\\n",
       "0  0.0  0.0  1.0  1.0  0.0  0.0  0.0  0.0  0.0  1.0  ...  0.0  0.0  0.0  1.0   \n",
       "\n",
       "    26   27   28   29   30   31  \n",
       "0  0.0  0.0  0.0  0.0  0.0  0.0  \n",
       "\n",
       "[1 rows x 32 columns]"
      ]
     },
     "execution_count": 88,
     "metadata": {},
     "output_type": "execute_result"
    }
   ],
   "source": [
    "X_categorical = onehotencoder.transform(X_categorical).toarray()\n",
    "X_categorical = pd.DataFrame(X_categorical)\n",
    "X_categorical"
   ]
  },
  {
   "cell_type": "code",
   "execution_count": 90,
   "metadata": {},
   "outputs": [
    {
     "data": {
      "text/html": [
       "<div>\n",
       "<style scoped>\n",
       "    .dataframe tbody tr th:only-of-type {\n",
       "        vertical-align: middle;\n",
       "    }\n",
       "\n",
       "    .dataframe tbody tr th {\n",
       "        vertical-align: top;\n",
       "    }\n",
       "\n",
       "    .dataframe thead th {\n",
       "        text-align: right;\n",
       "    }\n",
       "</style>\n",
       "<table border=\"1\" class=\"dataframe\">\n",
       "  <thead>\n",
       "    <tr style=\"text-align: right;\">\n",
       "      <th></th>\n",
       "      <th>0</th>\n",
       "      <th>1</th>\n",
       "      <th>2</th>\n",
       "      <th>3</th>\n",
       "      <th>4</th>\n",
       "      <th>5</th>\n",
       "      <th>6</th>\n",
       "      <th>7</th>\n",
       "      <th>8</th>\n",
       "      <th>9</th>\n",
       "      <th>...</th>\n",
       "      <th>DistanceFromHome_bool</th>\n",
       "      <th>HourlyRate_bool</th>\n",
       "      <th>JobRole_bool</th>\n",
       "      <th>MonthlyIncome_bool</th>\n",
       "      <th>NumCompaniesWorked_bool</th>\n",
       "      <th>TotalWorkingYears_bool</th>\n",
       "      <th>YearsAtCompany_bool</th>\n",
       "      <th>YearsInCurrentRole_bool</th>\n",
       "      <th>YearsSinceLastPromotion_bool</th>\n",
       "      <th>YearsWithCurrManager_bool</th>\n",
       "    </tr>\n",
       "  </thead>\n",
       "  <tbody>\n",
       "    <tr>\n",
       "      <th>0</th>\n",
       "      <td>0.0</td>\n",
       "      <td>0.0</td>\n",
       "      <td>1.0</td>\n",
       "      <td>1.0</td>\n",
       "      <td>0.0</td>\n",
       "      <td>0.0</td>\n",
       "      <td>0.0</td>\n",
       "      <td>0.0</td>\n",
       "      <td>0.0</td>\n",
       "      <td>1.0</td>\n",
       "      <td>...</td>\n",
       "      <td>0</td>\n",
       "      <td>1</td>\n",
       "      <td>1</td>\n",
       "      <td>1</td>\n",
       "      <td>0</td>\n",
       "      <td>1</td>\n",
       "      <td>1</td>\n",
       "      <td>1</td>\n",
       "      <td>1</td>\n",
       "      <td>1</td>\n",
       "    </tr>\n",
       "  </tbody>\n",
       "</table>\n",
       "<p>1 rows × 48 columns</p>\n",
       "</div>"
      ],
      "text/plain": [
       "     0    1    2    3    4    5    6    7    8    9  ...  \\\n",
       "0  0.0  0.0  1.0  1.0  0.0  0.0  0.0  0.0  0.0  1.0  ...   \n",
       "\n",
       "   DistanceFromHome_bool  HourlyRate_bool  JobRole_bool  MonthlyIncome_bool  \\\n",
       "0                      0                1             1                   1   \n",
       "\n",
       "   NumCompaniesWorked_bool  TotalWorkingYears_bool  YearsAtCompany_bool  \\\n",
       "0                        0                       1                    1   \n",
       "\n",
       "   YearsInCurrentRole_bool  YearsSinceLastPromotion_bool  \\\n",
       "0                        1                             1   \n",
       "\n",
       "   YearsWithCurrManager_bool  \n",
       "0                          1  \n",
       "\n",
       "[1 rows x 48 columns]"
      ]
     },
     "execution_count": 90,
     "metadata": {},
     "output_type": "execute_result"
    }
   ],
   "source": [
    "X_all = pd.concat([X_categorical, X_numerical], axis=1)\n",
    "X_all.head()"
   ]
  },
  {
   "cell_type": "code",
   "execution_count": 91,
   "metadata": {},
   "outputs": [],
   "source": [
    "X_all.columns = X_all.columns.astype(str)"
   ]
  },
  {
   "cell_type": "code",
   "execution_count": 92,
   "metadata": {},
   "outputs": [],
   "source": [
    "scaler=pickle.load(open('scaler.pkl','rb'))"
   ]
  },
  {
   "cell_type": "code",
   "execution_count": 93,
   "metadata": {},
   "outputs": [],
   "source": [
    "\n",
    "X = scaler.transform(X_all)"
   ]
  },
  {
   "cell_type": "code",
   "execution_count": 94,
   "metadata": {},
   "outputs": [
    {
     "data": {
      "text/plain": [
       "array([1], dtype=int64)"
      ]
     },
     "execution_count": 94,
     "metadata": {},
     "output_type": "execute_result"
    }
   ],
   "source": [
    "model.predict(X)"
   ]
  },
  {
   "cell_type": "code",
   "execution_count": null,
   "metadata": {},
   "outputs": [],
   "source": []
  }
 ],
 "metadata": {
  "kernelspec": {
   "display_name": "Python 3",
   "language": "python",
   "name": "python3"
  },
  "language_info": {
   "codemirror_mode": {
    "name": "ipython",
    "version": 3
   },
   "file_extension": ".py",
   "mimetype": "text/x-python",
   "name": "python",
   "nbconvert_exporter": "python",
   "pygments_lexer": "ipython3",
   "version": "3.11.0"
  },
  "orig_nbformat": 4
 },
 "nbformat": 4,
 "nbformat_minor": 2
}
