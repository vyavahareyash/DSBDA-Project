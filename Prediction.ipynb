{
 "cells": [
  {
   "cell_type": "code",
   "execution_count": 93,
   "metadata": {},
   "outputs": [],
   "source": [
    "import pickle\n",
    "model = pickle.load(open('model.pkl','rb'))"
   ]
  },
  {
   "cell_type": "code",
   "execution_count": 94,
   "metadata": {},
   "outputs": [],
   "source": [
    "import numpy as np\n",
    "import mercury as mr"
   ]
  },
  {
   "cell_type": "code",
   "execution_count": 95,
   "metadata": {},
   "outputs": [
    {
     "data": {
      "application/mercury+json": {
       "code_uid": "Checkbox.0.40.11.2-rande53f7ddc",
       "disabled": false,
       "hidden": false,
       "label": "Show code",
       "model_id": "957e0694b70f41dcb26988b224027348",
       "url_key": "",
       "value": false,
       "widget": "Checkbox"
      },
      "application/vnd.jupyter.widget-view+json": {
       "model_id": "957e0694b70f41dcb26988b224027348",
       "version_major": 2,
       "version_minor": 0
      },
      "text/plain": [
       "mercury.Checkbox"
      ]
     },
     "metadata": {},
     "output_type": "display_data"
    },
    {
     "data": {
      "application/mercury+json": {
       "allow_download": true,
       "code_uid": "App.0.40.24.3-randd2742e4f",
       "continuous_update": true,
       "description": "Mini Project",
       "full_screen": true,
       "model_id": "mercury-app",
       "notify": "{}",
       "output": "app",
       "schedule": "",
       "show_code": false,
       "show_prompt": false,
       "show_sidebar": true,
       "static_notebook": false,
       "title": "DSBDA",
       "widget": "App"
      },
      "text/html": [
       "<h3>Mercury Application</h3><small>This output won't appear in the web app.</small>"
      ],
      "text/plain": [
       "mercury.App"
      ]
     },
     "metadata": {},
     "output_type": "display_data"
    }
   ],
   "source": [
    "# Create Mercury App\n",
    "show_code = mr.Checkbox(label=\"Show code\", value=False)\n",
    "app = mr.App(title=\"DSBDA\", description=\"Mini Project\",show_code=show_code.value)"
   ]
  },
  {
   "cell_type": "code",
   "execution_count": 96,
   "metadata": {},
   "outputs": [],
   "source": [
    "import pandas as pd\n",
    "employee_df = pd.read_csv('WA_Fn-UseC_-HR-Employee-Attrition.csv')"
   ]
  },
  {
   "cell_type": "code",
   "execution_count": 97,
   "metadata": {},
   "outputs": [
    {
     "data": {
      "application/mercury+json": {
       "code_uid": "Text.0.40.15.1-rand7eb1b63c",
       "disabled": false,
       "hidden": false,
       "label": "Enter Age",
       "model_id": "2a5c47fee5374987aaafc0c2d0afe925",
       "rows": 1,
       "url_key": "",
       "value": "18",
       "widget": "Text"
      },
      "application/vnd.jupyter.widget-view+json": {
       "model_id": "2a5c47fee5374987aaafc0c2d0afe925",
       "version_major": 2,
       "version_minor": 0
      },
      "text/plain": [
       "mercury.Text"
      ]
     },
     "metadata": {},
     "output_type": "display_data"
    }
   ],
   "source": [
    "Age = mr.Text(value='18',label='Enter Age')"
   ]
  },
  {
   "cell_type": "code",
   "execution_count": 98,
   "metadata": {},
   "outputs": [],
   "source": [
    "Age=int(Age.value)"
   ]
  },
  {
   "cell_type": "code",
   "execution_count": 99,
   "metadata": {},
   "outputs": [
    {
     "data": {
      "application/mercury+json": {
       "choices": [
        "Travel_Rarely",
        "Travel_Frequently",
        "Non-Travel"
       ],
       "code_uid": "Select.0.40.16.1-rand008507cd",
       "disabled": false,
       "hidden": false,
       "label": "BusinessTravel",
       "model_id": "aec0054aca0c4bb3b62aaf227071f7a6",
       "url_key": "",
       "value": "Travel_Rarely",
       "widget": "Select"
      },
      "application/vnd.jupyter.widget-view+json": {
       "model_id": "aec0054aca0c4bb3b62aaf227071f7a6",
       "version_major": 2,
       "version_minor": 0
      },
      "text/plain": [
       "mercury.Select"
      ]
     },
     "metadata": {},
     "output_type": "display_data"
    }
   ],
   "source": [
    "BusinessTravel = mr.Select(value='Travel_Rarely',choices=employee_df['BusinessTravel'].unique(), label='BusinessTravel')"
   ]
  },
  {
   "cell_type": "code",
   "execution_count": 100,
   "metadata": {},
   "outputs": [
    {
     "data": {
      "application/mercury+json": {
       "code_uid": "Text.0.40.15.1-rand641cdaab",
       "disabled": false,
       "hidden": false,
       "label": "DailyRate",
       "model_id": "08c98f8cf7ac409aace97501e3a3ff22",
       "rows": 1,
       "url_key": "",
       "value": "0",
       "widget": "Text"
      },
      "application/vnd.jupyter.widget-view+json": {
       "model_id": "08c98f8cf7ac409aace97501e3a3ff22",
       "version_major": 2,
       "version_minor": 0
      },
      "text/plain": [
       "mercury.Text"
      ]
     },
     "metadata": {},
     "output_type": "display_data"
    }
   ],
   "source": [
    "DailyRate = mr.Text(value='0',label='DailyRate')"
   ]
  },
  {
   "cell_type": "code",
   "execution_count": 101,
   "metadata": {},
   "outputs": [],
   "source": [
    "DailyRate=int(DailyRate.value)"
   ]
  },
  {
   "cell_type": "code",
   "execution_count": 102,
   "metadata": {},
   "outputs": [
    {
     "data": {
      "application/mercury+json": {
       "choices": [
        "Sales",
        "Research & Development",
        "Human Resources"
       ],
       "code_uid": "Select.0.40.16.1-rand4179d7c1",
       "disabled": false,
       "hidden": false,
       "label": "Department",
       "model_id": "35fc055f5d554a08b8d4cf422f9f4636",
       "url_key": "",
       "value": "Sales",
       "widget": "Select"
      },
      "application/vnd.jupyter.widget-view+json": {
       "model_id": "35fc055f5d554a08b8d4cf422f9f4636",
       "version_major": 2,
       "version_minor": 0
      },
      "text/plain": [
       "mercury.Select"
      ]
     },
     "metadata": {},
     "output_type": "display_data"
    }
   ],
   "source": [
    "Department = mr.Select(value='Sales',choices=employee_df['Department'].unique(),label='Department')"
   ]
  },
  {
   "cell_type": "code",
   "execution_count": 103,
   "metadata": {},
   "outputs": [
    {
     "data": {
      "application/mercury+json": {
       "code_uid": "Text.0.40.15.1-randf85d0d3a",
       "disabled": false,
       "hidden": false,
       "label": "DistanceFromHome",
       "model_id": "34c9690cae0549aba6f5d482ada31c40",
       "rows": 1,
       "url_key": "",
       "value": "0",
       "widget": "Text"
      },
      "application/vnd.jupyter.widget-view+json": {
       "model_id": "34c9690cae0549aba6f5d482ada31c40",
       "version_major": 2,
       "version_minor": 0
      },
      "text/plain": [
       "mercury.Text"
      ]
     },
     "metadata": {},
     "output_type": "display_data"
    }
   ],
   "source": [
    "DistanceFromHome = mr.Text(value='0',label='DistanceFromHome')"
   ]
  },
  {
   "cell_type": "code",
   "execution_count": 104,
   "metadata": {},
   "outputs": [],
   "source": [
    "DistanceFromHome = int(DistanceFromHome.value)"
   ]
  },
  {
   "cell_type": "code",
   "execution_count": 105,
   "metadata": {},
   "outputs": [
    {
     "data": {
      "application/mercury+json": {
       "code_uid": "Text.0.40.15.1-rand4c66b9d4",
       "disabled": false,
       "hidden": false,
       "label": "Education [1-5]",
       "model_id": "daee553007d94c7aa1b0d3bc99aa4cfc",
       "rows": 1,
       "url_key": "",
       "value": "1",
       "widget": "Text"
      },
      "application/vnd.jupyter.widget-view+json": {
       "model_id": "daee553007d94c7aa1b0d3bc99aa4cfc",
       "version_major": 2,
       "version_minor": 0
      },
      "text/plain": [
       "mercury.Text"
      ]
     },
     "metadata": {},
     "output_type": "display_data"
    }
   ],
   "source": [
    "Education = mr.Text(value='1',label='Education [1-5]')"
   ]
  },
  {
   "cell_type": "code",
   "execution_count": 106,
   "metadata": {},
   "outputs": [],
   "source": [
    "Education=int(Education.value)"
   ]
  },
  {
   "cell_type": "code",
   "execution_count": 107,
   "metadata": {},
   "outputs": [
    {
     "data": {
      "application/mercury+json": {
       "choices": [
        "Life Sciences",
        "Other",
        "Medical",
        "Marketing",
        "Technical Degree",
        "Human Resources"
       ],
       "code_uid": "Select.0.40.16.1-randbc4d4df8",
       "disabled": false,
       "hidden": false,
       "label": "EducationField",
       "model_id": "a1b9184ccd314305b81d785d102eb7a8",
       "url_key": "",
       "value": "Life Sciences",
       "widget": "Select"
      },
      "application/vnd.jupyter.widget-view+json": {
       "model_id": "a1b9184ccd314305b81d785d102eb7a8",
       "version_major": 2,
       "version_minor": 0
      },
      "text/plain": [
       "mercury.Select"
      ]
     },
     "metadata": {},
     "output_type": "display_data"
    }
   ],
   "source": [
    "EducationField = mr.Select(value='Life Sciences',choices=employee_df['EducationField'].unique(),label='EducationField')"
   ]
  },
  {
   "cell_type": "code",
   "execution_count": 108,
   "metadata": {},
   "outputs": [
    {
     "data": {
      "application/mercury+json": {
       "code_uid": "Text.0.40.15.1-rand85cf22fe",
       "disabled": false,
       "hidden": false,
       "label": "EnvironmentSatisfaction [1-5]",
       "model_id": "be5f85db0683472ea5bc00ba6dfbff21",
       "rows": 1,
       "url_key": "",
       "value": "1",
       "widget": "Text"
      },
      "application/vnd.jupyter.widget-view+json": {
       "model_id": "be5f85db0683472ea5bc00ba6dfbff21",
       "version_major": 2,
       "version_minor": 0
      },
      "text/plain": [
       "mercury.Text"
      ]
     },
     "metadata": {},
     "output_type": "display_data"
    }
   ],
   "source": [
    "EnvironmentSatisfaction = mr.Text(value='1',label='EnvironmentSatisfaction [1-5]')"
   ]
  },
  {
   "cell_type": "code",
   "execution_count": 109,
   "metadata": {},
   "outputs": [],
   "source": [
    "EnvironmentSatisfaction=int(EnvironmentSatisfaction.value)"
   ]
  },
  {
   "cell_type": "code",
   "execution_count": 110,
   "metadata": {},
   "outputs": [
    {
     "data": {
      "application/mercury+json": {
       "choices": [
        "Female",
        "Male"
       ],
       "code_uid": "Select.0.40.16.1-randb5668a50",
       "disabled": false,
       "hidden": false,
       "label": "Gender",
       "model_id": "aafeb38bacb94e5898d367deb03eb529",
       "url_key": "",
       "value": "Female",
       "widget": "Select"
      },
      "application/vnd.jupyter.widget-view+json": {
       "model_id": "aafeb38bacb94e5898d367deb03eb529",
       "version_major": 2,
       "version_minor": 0
      },
      "text/plain": [
       "mercury.Select"
      ]
     },
     "metadata": {},
     "output_type": "display_data"
    }
   ],
   "source": [
    "Gender = mr.Select(value='Female',choices=employee_df['Gender'].unique(),label='Gender')"
   ]
  },
  {
   "cell_type": "code",
   "execution_count": 111,
   "metadata": {},
   "outputs": [
    {
     "data": {
      "application/mercury+json": {
       "code_uid": "Text.0.40.15.1-randef9215ff",
       "disabled": false,
       "hidden": false,
       "label": "JobInvolvement [1-5]",
       "model_id": "61546738ea0f4b79bdf01f87de5aa39e",
       "rows": 1,
       "url_key": "",
       "value": "1",
       "widget": "Text"
      },
      "application/vnd.jupyter.widget-view+json": {
       "model_id": "61546738ea0f4b79bdf01f87de5aa39e",
       "version_major": 2,
       "version_minor": 0
      },
      "text/plain": [
       "mercury.Text"
      ]
     },
     "metadata": {},
     "output_type": "display_data"
    }
   ],
   "source": [
    "JobInvolvement = mr.Text(value='1',label='JobInvolvement [1-5]')"
   ]
  },
  {
   "cell_type": "code",
   "execution_count": 112,
   "metadata": {},
   "outputs": [],
   "source": [
    "JobInvolvement=int(JobInvolvement.value)"
   ]
  },
  {
   "cell_type": "code",
   "execution_count": 113,
   "metadata": {},
   "outputs": [
    {
     "data": {
      "application/mercury+json": {
       "code_uid": "Text.0.40.15.1-rand4f9ec134",
       "disabled": false,
       "hidden": false,
       "label": "JobLevel [1-5]",
       "model_id": "0ce7c72a9c28481393cdb020ae73a248",
       "rows": 1,
       "url_key": "",
       "value": "1",
       "widget": "Text"
      },
      "application/vnd.jupyter.widget-view+json": {
       "model_id": "0ce7c72a9c28481393cdb020ae73a248",
       "version_major": 2,
       "version_minor": 0
      },
      "text/plain": [
       "mercury.Text"
      ]
     },
     "metadata": {},
     "output_type": "display_data"
    }
   ],
   "source": [
    "JobLevel = mr.Text(value='1',label='JobLevel [1-5]')"
   ]
  },
  {
   "cell_type": "code",
   "execution_count": 114,
   "metadata": {},
   "outputs": [],
   "source": [
    "JobLevel=int(JobLevel.value)"
   ]
  },
  {
   "cell_type": "code",
   "execution_count": 115,
   "metadata": {},
   "outputs": [
    {
     "data": {
      "application/mercury+json": {
       "choices": [
        "Sales Executive",
        "Research Scientist",
        "Laboratory Technician",
        "Manufacturing Director",
        "Healthcare Representative",
        "Manager",
        "Sales Representative",
        "Research Director",
        "Human Resources"
       ],
       "code_uid": "Select.0.40.16.1-rand2fd73666",
       "disabled": false,
       "hidden": false,
       "label": "JobRole",
       "model_id": "857cfbcccac7436a9f91268eba7262be",
       "url_key": "",
       "value": "Sales Executive",
       "widget": "Select"
      },
      "application/vnd.jupyter.widget-view+json": {
       "model_id": "857cfbcccac7436a9f91268eba7262be",
       "version_major": 2,
       "version_minor": 0
      },
      "text/plain": [
       "mercury.Select"
      ]
     },
     "metadata": {},
     "output_type": "display_data"
    }
   ],
   "source": [
    "JobRole = mr.Select(value='Sales Executive',choices=employee_df['JobRole'].unique(),label='JobRole')"
   ]
  },
  {
   "cell_type": "code",
   "execution_count": 116,
   "metadata": {},
   "outputs": [
    {
     "data": {
      "application/mercury+json": {
       "code_uid": "Text.0.40.15.1-randc3a890dd",
       "disabled": false,
       "hidden": false,
       "label": "JobSatisfaction [1-5]",
       "model_id": "032f6b54920a462f9c2a87bd7de10605",
       "rows": 1,
       "url_key": "",
       "value": "1",
       "widget": "Text"
      },
      "application/vnd.jupyter.widget-view+json": {
       "model_id": "032f6b54920a462f9c2a87bd7de10605",
       "version_major": 2,
       "version_minor": 0
      },
      "text/plain": [
       "mercury.Text"
      ]
     },
     "metadata": {},
     "output_type": "display_data"
    }
   ],
   "source": [
    "JobSatisfaction = mr.Text(value='1',label='JobSatisfaction [1-5]')"
   ]
  },
  {
   "cell_type": "code",
   "execution_count": 117,
   "metadata": {},
   "outputs": [],
   "source": [
    "JobSatisfaction=int(JobSatisfaction.value)"
   ]
  },
  {
   "cell_type": "code",
   "execution_count": 118,
   "metadata": {},
   "outputs": [
    {
     "data": {
      "application/mercury+json": {
       "choices": [
        "Single",
        "Married",
        "Divorced"
       ],
       "code_uid": "Select.0.40.16.1-randfc242578",
       "disabled": false,
       "hidden": false,
       "label": "MaritalStatus",
       "model_id": "609705948c4b415aabd85ac7f4812ac2",
       "url_key": "",
       "value": "Single",
       "widget": "Select"
      },
      "application/vnd.jupyter.widget-view+json": {
       "model_id": "609705948c4b415aabd85ac7f4812ac2",
       "version_major": 2,
       "version_minor": 0
      },
      "text/plain": [
       "mercury.Select"
      ]
     },
     "metadata": {},
     "output_type": "display_data"
    }
   ],
   "source": [
    "MaritalStatus = mr.Select(value='Single',choices=employee_df['MaritalStatus'].unique(),label='MaritalStatus')"
   ]
  },
  {
   "cell_type": "code",
   "execution_count": 119,
   "metadata": {},
   "outputs": [
    {
     "data": {
      "application/mercury+json": {
       "code_uid": "Text.0.40.15.1-randbb4aed93",
       "disabled": false,
       "hidden": false,
       "label": "MonthlyIncome",
       "model_id": "05cb86562bc9456ca6aef9a06560faab",
       "rows": 1,
       "url_key": "",
       "value": "1000",
       "widget": "Text"
      },
      "application/vnd.jupyter.widget-view+json": {
       "model_id": "05cb86562bc9456ca6aef9a06560faab",
       "version_major": 2,
       "version_minor": 0
      },
      "text/plain": [
       "mercury.Text"
      ]
     },
     "metadata": {},
     "output_type": "display_data"
    }
   ],
   "source": [
    "MonthlyIncome = mr.Text(value='1000',label='MonthlyIncome')"
   ]
  },
  {
   "cell_type": "code",
   "execution_count": 120,
   "metadata": {},
   "outputs": [],
   "source": [
    "MonthlyIncome=int(MonthlyIncome.value)"
   ]
  },
  {
   "cell_type": "code",
   "execution_count": 121,
   "metadata": {},
   "outputs": [
    {
     "data": {
      "application/mercury+json": {
       "code_uid": "Text.0.40.15.1-rand8e4901c0",
       "disabled": false,
       "hidden": false,
       "label": "MonthlyRate",
       "model_id": "1919cad8ecd34149b3643bf0b13fd2e9",
       "rows": 1,
       "url_key": "",
       "value": "1000",
       "widget": "Text"
      },
      "application/vnd.jupyter.widget-view+json": {
       "model_id": "1919cad8ecd34149b3643bf0b13fd2e9",
       "version_major": 2,
       "version_minor": 0
      },
      "text/plain": [
       "mercury.Text"
      ]
     },
     "metadata": {},
     "output_type": "display_data"
    }
   ],
   "source": [
    "MonthlyRate = mr.Text(value='1000',label='MonthlyRate')"
   ]
  },
  {
   "cell_type": "code",
   "execution_count": 122,
   "metadata": {},
   "outputs": [],
   "source": [
    "MonthlyRate=int(MonthlyRate.value)"
   ]
  },
  {
   "cell_type": "code",
   "execution_count": 123,
   "metadata": {},
   "outputs": [
    {
     "data": {
      "application/mercury+json": {
       "code_uid": "Text.0.40.15.1-rand8c421401",
       "disabled": false,
       "hidden": false,
       "label": "NumCompaniesWorked",
       "model_id": "0f912e01957749a9bf55483d0e184094",
       "rows": 1,
       "url_key": "",
       "value": "0",
       "widget": "Text"
      },
      "application/vnd.jupyter.widget-view+json": {
       "model_id": "0f912e01957749a9bf55483d0e184094",
       "version_major": 2,
       "version_minor": 0
      },
      "text/plain": [
       "mercury.Text"
      ]
     },
     "metadata": {},
     "output_type": "display_data"
    }
   ],
   "source": [
    "NumCompaniesWorked = mr.Text(value='0',label='NumCompaniesWorked')"
   ]
  },
  {
   "cell_type": "code",
   "execution_count": 124,
   "metadata": {},
   "outputs": [],
   "source": [
    "NumCompaniesWorked=int(NumCompaniesWorked.value)"
   ]
  },
  {
   "cell_type": "code",
   "execution_count": 125,
   "metadata": {},
   "outputs": [
    {
     "data": {
      "application/mercury+json": {
       "choices": [
        "Yes",
        "No"
       ],
       "code_uid": "Select.0.40.16.1-rand6cf6ecf9",
       "disabled": false,
       "hidden": false,
       "label": "OverTime",
       "model_id": "a6640c7de3be4416806e9e2093ad75b6",
       "url_key": "",
       "value": "Yes",
       "widget": "Select"
      },
      "application/vnd.jupyter.widget-view+json": {
       "model_id": "a6640c7de3be4416806e9e2093ad75b6",
       "version_major": 2,
       "version_minor": 0
      },
      "text/plain": [
       "mercury.Select"
      ]
     },
     "metadata": {},
     "output_type": "display_data"
    }
   ],
   "source": [
    "OverTime = mr.Select(value='Yes',choices=employee_df['OverTime'].unique(),label='OverTime')"
   ]
  },
  {
   "cell_type": "code",
   "execution_count": 153,
   "metadata": {},
   "outputs": [
    {
     "data": {
      "application/mercury+json": {
       "code_uid": "Text.0.40.15.1-randf94ff432",
       "disabled": false,
       "hidden": false,
       "label": "HourlyRate",
       "model_id": "b6aa1ba68b4042d2bd49a15cb1208c1c",
       "rows": 1,
       "url_key": "",
       "value": "10",
       "widget": "Text"
      },
      "application/vnd.jupyter.widget-view+json": {
       "model_id": "b6aa1ba68b4042d2bd49a15cb1208c1c",
       "version_major": 2,
       "version_minor": 0
      },
      "text/plain": [
       "mercury.Text"
      ]
     },
     "metadata": {},
     "output_type": "display_data"
    }
   ],
   "source": [
    "HourlyRate = mr.Text(value='10',label='HourlyRate')"
   ]
  },
  {
   "cell_type": "code",
   "execution_count": 154,
   "metadata": {},
   "outputs": [],
   "source": [
    "HourlyRate=int(HourlyRate.value)"
   ]
  },
  {
   "cell_type": "code",
   "execution_count": 126,
   "metadata": {},
   "outputs": [
    {
     "data": {
      "application/mercury+json": {
       "code_uid": "Text.0.40.15.1-rand38e6d72e",
       "disabled": false,
       "hidden": false,
       "label": "PercentSalaryHike",
       "model_id": "156464b0036d4100902cf835dded6d0b",
       "rows": 1,
       "url_key": "",
       "value": "0",
       "widget": "Text"
      },
      "application/vnd.jupyter.widget-view+json": {
       "model_id": "156464b0036d4100902cf835dded6d0b",
       "version_major": 2,
       "version_minor": 0
      },
      "text/plain": [
       "mercury.Text"
      ]
     },
     "metadata": {},
     "output_type": "display_data"
    }
   ],
   "source": [
    "PercentSalaryHike = mr.Text(value='0',label='PercentSalaryHike')"
   ]
  },
  {
   "cell_type": "code",
   "execution_count": 127,
   "metadata": {},
   "outputs": [],
   "source": [
    "PercentSalaryHike=int(PercentSalaryHike.value)"
   ]
  },
  {
   "cell_type": "code",
   "execution_count": 130,
   "metadata": {},
   "outputs": [
    {
     "data": {
      "application/mercury+json": {
       "code_uid": "Text.0.40.15.1-rand91c0538e",
       "disabled": false,
       "hidden": false,
       "label": "PerformanceRating [1-5]",
       "model_id": "fbe511ef361f4aed82e3a30262bcccb5",
       "rows": 1,
       "url_key": "",
       "value": "1",
       "widget": "Text"
      },
      "application/vnd.jupyter.widget-view+json": {
       "model_id": "fbe511ef361f4aed82e3a30262bcccb5",
       "version_major": 2,
       "version_minor": 0
      },
      "text/plain": [
       "mercury.Text"
      ]
     },
     "metadata": {},
     "output_type": "display_data"
    }
   ],
   "source": [
    "PerformanceRating = mr.Text(value='1',label='PerformanceRating [1-5]')"
   ]
  },
  {
   "cell_type": "code",
   "execution_count": 131,
   "metadata": {},
   "outputs": [],
   "source": [
    "PerformanceRating=int(PerformanceRating.value)"
   ]
  },
  {
   "cell_type": "code",
   "execution_count": 132,
   "metadata": {},
   "outputs": [
    {
     "data": {
      "application/mercury+json": {
       "code_uid": "Text.0.40.15.1-randd6381baa",
       "disabled": false,
       "hidden": false,
       "label": "RelationshipSatisfaction [1-5]",
       "model_id": "4119c2996d1a498c8728a00b6891613a",
       "rows": 1,
       "url_key": "",
       "value": "0",
       "widget": "Text"
      },
      "application/vnd.jupyter.widget-view+json": {
       "model_id": "4119c2996d1a498c8728a00b6891613a",
       "version_major": 2,
       "version_minor": 0
      },
      "text/plain": [
       "mercury.Text"
      ]
     },
     "metadata": {},
     "output_type": "display_data"
    }
   ],
   "source": [
    "RelationshipSatisfaction = mr.Text(value='0',label='RelationshipSatisfaction [1-5]')"
   ]
  },
  {
   "cell_type": "code",
   "execution_count": 133,
   "metadata": {},
   "outputs": [],
   "source": [
    "RelationshipSatisfaction=int(RelationshipSatisfaction.value)"
   ]
  },
  {
   "cell_type": "code",
   "execution_count": 134,
   "metadata": {},
   "outputs": [
    {
     "data": {
      "application/mercury+json": {
       "code_uid": "Text.0.40.15.1-rand6d942420",
       "disabled": false,
       "hidden": false,
       "label": "StockOptionLevel [0-5]",
       "model_id": "3689b45679e949a8b758b2b0954a3b90",
       "rows": 1,
       "url_key": "",
       "value": "0",
       "widget": "Text"
      },
      "application/vnd.jupyter.widget-view+json": {
       "model_id": "3689b45679e949a8b758b2b0954a3b90",
       "version_major": 2,
       "version_minor": 0
      },
      "text/plain": [
       "mercury.Text"
      ]
     },
     "metadata": {},
     "output_type": "display_data"
    }
   ],
   "source": [
    "StockOptionLevel = mr.Text(value='0',label='StockOptionLevel [0-5]')"
   ]
  },
  {
   "cell_type": "code",
   "execution_count": 135,
   "metadata": {},
   "outputs": [],
   "source": [
    "StockOptionLevel=int(StockOptionLevel.value)"
   ]
  },
  {
   "cell_type": "code",
   "execution_count": 136,
   "metadata": {},
   "outputs": [
    {
     "data": {
      "application/mercury+json": {
       "code_uid": "Text.0.40.15.1-rand2be70e1d",
       "disabled": false,
       "hidden": false,
       "label": "TotalWorkingYears",
       "model_id": "9c43d9efbda24f689d07d3e38ef1cb7b",
       "rows": 1,
       "url_key": "",
       "value": "1",
       "widget": "Text"
      },
      "application/vnd.jupyter.widget-view+json": {
       "model_id": "9c43d9efbda24f689d07d3e38ef1cb7b",
       "version_major": 2,
       "version_minor": 0
      },
      "text/plain": [
       "mercury.Text"
      ]
     },
     "metadata": {},
     "output_type": "display_data"
    }
   ],
   "source": [
    "TotalWorkingYears = mr.Text(value='1',label='TotalWorkingYears')"
   ]
  },
  {
   "cell_type": "code",
   "execution_count": 137,
   "metadata": {},
   "outputs": [],
   "source": [
    "TotalWorkingYears=int(TotalWorkingYears.value)"
   ]
  },
  {
   "cell_type": "code",
   "execution_count": 138,
   "metadata": {},
   "outputs": [
    {
     "data": {
      "application/mercury+json": {
       "code_uid": "Text.0.40.15.1-rand1be5d7d2",
       "disabled": false,
       "hidden": false,
       "label": "TrainingTimesLastYear",
       "model_id": "c3e3b075ade1480b9df57b05a5fe9713",
       "rows": 1,
       "url_key": "",
       "value": "0",
       "widget": "Text"
      },
      "application/vnd.jupyter.widget-view+json": {
       "model_id": "c3e3b075ade1480b9df57b05a5fe9713",
       "version_major": 2,
       "version_minor": 0
      },
      "text/plain": [
       "mercury.Text"
      ]
     },
     "metadata": {},
     "output_type": "display_data"
    }
   ],
   "source": [
    "TrainingTimesLastYear = mr.Text(value='0',label='TrainingTimesLastYear')"
   ]
  },
  {
   "cell_type": "code",
   "execution_count": 139,
   "metadata": {},
   "outputs": [],
   "source": [
    "TrainingTimesLastYear=int(TrainingTimesLastYear.value)"
   ]
  },
  {
   "cell_type": "code",
   "execution_count": 140,
   "metadata": {},
   "outputs": [
    {
     "data": {
      "application/mercury+json": {
       "code_uid": "Text.0.40.15.1-rand30329e6b",
       "disabled": false,
       "hidden": false,
       "label": "WorkLifeBalance [1-5]",
       "model_id": "2b2264448445443db088fe6a00b90ab9",
       "rows": 1,
       "url_key": "",
       "value": "1",
       "widget": "Text"
      },
      "application/vnd.jupyter.widget-view+json": {
       "model_id": "2b2264448445443db088fe6a00b90ab9",
       "version_major": 2,
       "version_minor": 0
      },
      "text/plain": [
       "mercury.Text"
      ]
     },
     "metadata": {},
     "output_type": "display_data"
    }
   ],
   "source": [
    "WorkLifeBalance = mr.Text(value='1',label='WorkLifeBalance [1-5]')"
   ]
  },
  {
   "cell_type": "code",
   "execution_count": 141,
   "metadata": {},
   "outputs": [],
   "source": [
    "WorkLifeBalance=int(WorkLifeBalance.value)"
   ]
  },
  {
   "cell_type": "code",
   "execution_count": 142,
   "metadata": {},
   "outputs": [
    {
     "data": {
      "application/mercury+json": {
       "code_uid": "Text.0.40.15.1-rande36f463b",
       "disabled": false,
       "hidden": false,
       "label": "YearsAtCompany",
       "model_id": "96f6121942204f958798717ae20b004a",
       "rows": 1,
       "url_key": "",
       "value": "0",
       "widget": "Text"
      },
      "application/vnd.jupyter.widget-view+json": {
       "model_id": "96f6121942204f958798717ae20b004a",
       "version_major": 2,
       "version_minor": 0
      },
      "text/plain": [
       "mercury.Text"
      ]
     },
     "metadata": {},
     "output_type": "display_data"
    }
   ],
   "source": [
    "YearsAtCompany = mr.Text(value='0',label='YearsAtCompany')"
   ]
  },
  {
   "cell_type": "code",
   "execution_count": 143,
   "metadata": {},
   "outputs": [],
   "source": [
    "YearsAtCompany=int(YearsAtCompany.value)"
   ]
  },
  {
   "cell_type": "code",
   "execution_count": 144,
   "metadata": {},
   "outputs": [
    {
     "data": {
      "application/mercury+json": {
       "code_uid": "Text.0.40.15.1-rand181b8550",
       "disabled": false,
       "hidden": false,
       "label": "YearsInCurrentRole",
       "model_id": "1af4fa931ba04784994517be8248c3cc",
       "rows": 1,
       "url_key": "",
       "value": "0",
       "widget": "Text"
      },
      "application/vnd.jupyter.widget-view+json": {
       "model_id": "1af4fa931ba04784994517be8248c3cc",
       "version_major": 2,
       "version_minor": 0
      },
      "text/plain": [
       "mercury.Text"
      ]
     },
     "metadata": {},
     "output_type": "display_data"
    }
   ],
   "source": [
    "YearsInCurrentRole = mr.Text(value='0',label='YearsInCurrentRole')"
   ]
  },
  {
   "cell_type": "code",
   "execution_count": 145,
   "metadata": {},
   "outputs": [],
   "source": [
    "YearsInCurrentRole=int(YearsInCurrentRole.value)"
   ]
  },
  {
   "cell_type": "code",
   "execution_count": 146,
   "metadata": {},
   "outputs": [
    {
     "data": {
      "application/mercury+json": {
       "code_uid": "Text.0.40.15.1-randd964f13b",
       "disabled": false,
       "hidden": false,
       "label": "YearsSinceLastPromotion",
       "model_id": "fa27bb5fe37e42309a4a35492f4da33d",
       "rows": 1,
       "url_key": "",
       "value": "0",
       "widget": "Text"
      },
      "application/vnd.jupyter.widget-view+json": {
       "model_id": "fa27bb5fe37e42309a4a35492f4da33d",
       "version_major": 2,
       "version_minor": 0
      },
      "text/plain": [
       "mercury.Text"
      ]
     },
     "metadata": {},
     "output_type": "display_data"
    }
   ],
   "source": [
    "YearsSinceLastPromotion = mr.Text(value='0',label='YearsSinceLastPromotion')"
   ]
  },
  {
   "cell_type": "code",
   "execution_count": 147,
   "metadata": {},
   "outputs": [],
   "source": [
    "YearsSinceLastPromotion=int(YearsSinceLastPromotion.value)"
   ]
  },
  {
   "cell_type": "code",
   "execution_count": 148,
   "metadata": {},
   "outputs": [
    {
     "data": {
      "application/mercury+json": {
       "code_uid": "Text.0.40.15.1-randb8fb1857",
       "disabled": false,
       "hidden": false,
       "label": "YearsWithCurrManager",
       "model_id": "bd8b41c2cb584210a86c90b323cbc0ea",
       "rows": 1,
       "url_key": "",
       "value": "0",
       "widget": "Text"
      },
      "application/vnd.jupyter.widget-view+json": {
       "model_id": "bd8b41c2cb584210a86c90b323cbc0ea",
       "version_major": 2,
       "version_minor": 0
      },
      "text/plain": [
       "mercury.Text"
      ]
     },
     "metadata": {},
     "output_type": "display_data"
    }
   ],
   "source": [
    "YearsWithCurrManager = mr.Text(value='0',label='YearsWithCurrManager')"
   ]
  },
  {
   "cell_type": "code",
   "execution_count": 149,
   "metadata": {},
   "outputs": [],
   "source": [
    "YearsWithCurrManager=int(YearsWithCurrManager.value)"
   ]
  },
  {
   "cell_type": "code",
   "execution_count": 150,
   "metadata": {},
   "outputs": [],
   "source": [
    "Total_Satisfaction = EnvironmentSatisfaction+JobInvolvement+JobSatisfaction+RelationshipSatisfaction+WorkLifeBalance/5 "
   ]
  },
  {
   "cell_type": "code",
   "execution_count": null,
   "metadata": {},
   "outputs": [],
   "source": [
    "Total_Satisfaction_bool = 1 if Total_Satisfaction>=2.2 else 0 "
   ]
  },
  {
   "cell_type": "code",
   "execution_count": null,
   "metadata": {},
   "outputs": [],
   "source": [
    "Age_bool = 1 if Age<35 else 0"
   ]
  },
  {
   "cell_type": "code",
   "execution_count": null,
   "metadata": {},
   "outputs": [],
   "source": [
    "DailyRate_bool = 1 if DailyRate<750 else 0"
   ]
  },
  {
   "cell_type": "code",
   "execution_count": null,
   "metadata": {},
   "outputs": [],
   "source": [
    "Department_bool = 1 if Department=='Sales' else 0"
   ]
  },
  {
   "cell_type": "code",
   "execution_count": null,
   "metadata": {},
   "outputs": [],
   "source": [
    "DistanceFromHome_bool = 1 if DistanceFromHome>10 else 0"
   ]
  },
  {
   "cell_type": "code",
   "execution_count": null,
   "metadata": {},
   "outputs": [],
   "source": [
    "HourlyRate_bool = 1 if HourlyRate<65 else 0"
   ]
  },
  {
   "cell_type": "code",
   "execution_count": null,
   "metadata": {},
   "outputs": [],
   "source": [
    "JobRole_bool = 1 if JobRole=='Sales Executive' else 0"
   ]
  },
  {
   "cell_type": "code",
   "execution_count": null,
   "metadata": {},
   "outputs": [],
   "source": [
    "MonthlyIncome_bool = 1 if MonthlyIncome<3500 else 0"
   ]
  },
  {
   "cell_type": "code",
   "execution_count": null,
   "metadata": {},
   "outputs": [],
   "source": [
    "NumCompaniesWorked_bool = 1 if NumCompaniesWorked>4 else 0"
   ]
  },
  {
   "cell_type": "code",
   "execution_count": null,
   "metadata": {},
   "outputs": [],
   "source": [
    "TotalWorkingYears_bool = 1 if TotalWorkingYears<8 else 0"
   ]
  },
  {
   "cell_type": "code",
   "execution_count": null,
   "metadata": {},
   "outputs": [],
   "source": [
    "YearsAtCompany_bool = 1 if YearsAtCompany<3 else 0"
   ]
  },
  {
   "cell_type": "code",
   "execution_count": null,
   "metadata": {},
   "outputs": [],
   "source": [
    "YearsInCurrentRole_bool = 1 if YearsInCurrentRole<3 else 0"
   ]
  },
  {
   "cell_type": "code",
   "execution_count": null,
   "metadata": {},
   "outputs": [],
   "source": [
    "YearsSinceLastPromotion_bool = 1 if YearsSinceLastPromotion<1 else 0"
   ]
  },
  {
   "cell_type": "code",
   "execution_count": null,
   "metadata": {},
   "outputs": [],
   "source": [
    "YearsWithCurrManager_bool = 1 if YearsWithCurrManager<1 else 0"
   ]
  },
  {
   "cell_type": "code",
   "execution_count": null,
   "metadata": {},
   "outputs": [],
   "source": [
    "Gender = 1 if Gender=='Female' else 0"
   ]
  }
 ],
 "metadata": {
  "kernelspec": {
   "display_name": "Python 3",
   "language": "python",
   "name": "python3"
  },
  "language_info": {
   "codemirror_mode": {
    "name": "ipython",
    "version": 3
   },
   "file_extension": ".py",
   "mimetype": "text/x-python",
   "name": "python",
   "nbconvert_exporter": "python",
   "pygments_lexer": "ipython3",
   "version": "3.11.0"
  },
  "orig_nbformat": 4
 },
 "nbformat": 4,
 "nbformat_minor": 2
}
